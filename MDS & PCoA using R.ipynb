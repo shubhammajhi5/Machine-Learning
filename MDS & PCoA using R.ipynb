{
 "cells": [
  {
   "cell_type": "code",
   "execution_count": 1,
   "id": "57a2334b",
   "metadata": {},
   "outputs": [],
   "source": [
    "library(ggplot2)"
   ]
  },
  {
   "cell_type": "code",
   "execution_count": 2,
   "id": "31a06926",
   "metadata": {},
   "outputs": [],
   "source": [
    "## In this example, the data is in a matrix called data.matrix\n",
    "## columns are individual samples (i.e. cells)\n",
    "## rows are measurements taken for all the samples (i.e. genes)\n",
    "\n",
    "data.matrix <- matrix(nrow=100, ncol=10)\n",
    "colnames(data.matrix) <- c(paste(\"wt\", 1:5, sep=\"\"), paste(\"ko\", 1:5, sep=\"\"))\n",
    "rownames(data.matrix) <- paste(\"gene\", 1:100, sep=\"\")\n",
    "\n",
    "for (i in 1:100) {\n",
    "  wt.values <- rpois(5, lambda=sample(x=10:1000, size=1))\n",
    "  ko.values <- rpois(5, lambda=sample(x=10:1000, size=1))\n",
    " \n",
    "  data.matrix[i,] <- c(wt.values, ko.values)\n",
    "}"
   ]
  },
  {
   "cell_type": "code",
   "execution_count": 3,
   "id": "99c75777",
   "metadata": {},
   "outputs": [
    {
     "data": {
      "text/html": [
       "<table class=\"dataframe\">\n",
       "<caption>A matrix: 6 × 10 of type int</caption>\n",
       "<thead>\n",
       "\t<tr><th></th><th scope=col>wt1</th><th scope=col>wt2</th><th scope=col>wt3</th><th scope=col>wt4</th><th scope=col>wt5</th><th scope=col>ko1</th><th scope=col>ko2</th><th scope=col>ko3</th><th scope=col>ko4</th><th scope=col>ko5</th></tr>\n",
       "</thead>\n",
       "<tbody>\n",
       "\t<tr><th scope=row>gene1</th><td> 456</td><td>462</td><td> 467</td><td>425</td><td>466</td><td> 51</td><td> 39</td><td> 50</td><td> 45</td><td> 53</td></tr>\n",
       "\t<tr><th scope=row>gene2</th><td> 637</td><td>625</td><td> 670</td><td>683</td><td>614</td><td>191</td><td>201</td><td>219</td><td>179</td><td>200</td></tr>\n",
       "\t<tr><th scope=row>gene3</th><td> 851</td><td>814</td><td> 834</td><td>816</td><td>816</td><td>826</td><td>796</td><td>835</td><td>836</td><td>831</td></tr>\n",
       "\t<tr><th scope=row>gene4</th><td> 547</td><td>541</td><td> 527</td><td>518</td><td>502</td><td>903</td><td>888</td><td>948</td><td>906</td><td>954</td></tr>\n",
       "\t<tr><th scope=row>gene5</th><td> 833</td><td>876</td><td> 865</td><td>861</td><td>844</td><td>478</td><td>542</td><td>513</td><td>526</td><td>496</td></tr>\n",
       "\t<tr><th scope=row>gene6</th><td>1003</td><td>910</td><td>1003</td><td>966</td><td>940</td><td>894</td><td>862</td><td>893</td><td>886</td><td>906</td></tr>\n",
       "</tbody>\n",
       "</table>\n"
      ],
      "text/latex": [
       "A matrix: 6 × 10 of type int\n",
       "\\begin{tabular}{r|llllllllll}\n",
       "  & wt1 & wt2 & wt3 & wt4 & wt5 & ko1 & ko2 & ko3 & ko4 & ko5\\\\\n",
       "\\hline\n",
       "\tgene1 &  456 & 462 &  467 & 425 & 466 &  51 &  39 &  50 &  45 &  53\\\\\n",
       "\tgene2 &  637 & 625 &  670 & 683 & 614 & 191 & 201 & 219 & 179 & 200\\\\\n",
       "\tgene3 &  851 & 814 &  834 & 816 & 816 & 826 & 796 & 835 & 836 & 831\\\\\n",
       "\tgene4 &  547 & 541 &  527 & 518 & 502 & 903 & 888 & 948 & 906 & 954\\\\\n",
       "\tgene5 &  833 & 876 &  865 & 861 & 844 & 478 & 542 & 513 & 526 & 496\\\\\n",
       "\tgene6 & 1003 & 910 & 1003 & 966 & 940 & 894 & 862 & 893 & 886 & 906\\\\\n",
       "\\end{tabular}\n"
      ],
      "text/markdown": [
       "\n",
       "A matrix: 6 × 10 of type int\n",
       "\n",
       "| <!--/--> | wt1 | wt2 | wt3 | wt4 | wt5 | ko1 | ko2 | ko3 | ko4 | ko5 |\n",
       "|---|---|---|---|---|---|---|---|---|---|---|\n",
       "| gene1 |  456 | 462 |  467 | 425 | 466 |  51 |  39 |  50 |  45 |  53 |\n",
       "| gene2 |  637 | 625 |  670 | 683 | 614 | 191 | 201 | 219 | 179 | 200 |\n",
       "| gene3 |  851 | 814 |  834 | 816 | 816 | 826 | 796 | 835 | 836 | 831 |\n",
       "| gene4 |  547 | 541 |  527 | 518 | 502 | 903 | 888 | 948 | 906 | 954 |\n",
       "| gene5 |  833 | 876 |  865 | 861 | 844 | 478 | 542 | 513 | 526 | 496 |\n",
       "| gene6 | 1003 | 910 | 1003 | 966 | 940 | 894 | 862 | 893 | 886 | 906 |\n",
       "\n"
      ],
      "text/plain": [
       "      wt1  wt2 wt3  wt4 wt5 ko1 ko2 ko3 ko4 ko5\n",
       "gene1  456 462  467 425 466  51  39  50  45  53\n",
       "gene2  637 625  670 683 614 191 201 219 179 200\n",
       "gene3  851 814  834 816 816 826 796 835 836 831\n",
       "gene4  547 541  527 518 502 903 888 948 906 954\n",
       "gene5  833 876  865 861 844 478 542 513 526 496\n",
       "gene6 1003 910 1003 966 940 894 862 893 886 906"
      ]
     },
     "metadata": {},
     "output_type": "display_data"
    }
   ],
   "source": [
    "head(data.matrix)"
   ]
  },
  {
   "cell_type": "code",
   "execution_count": 4,
   "id": "c53cbced",
   "metadata": {},
   "outputs": [
    {
     "data": {
      "text/html": [
       "<style>\n",
       ".list-inline {list-style: none; margin:0; padding: 0}\n",
       ".list-inline>li {display: inline-block}\n",
       ".list-inline>li:not(:last-child)::after {content: \"\\00b7\"; padding: 0 .5ex}\n",
       "</style>\n",
       "<ol class=list-inline><li>100</li><li>10</li></ol>\n"
      ],
      "text/latex": [
       "\\begin{enumerate*}\n",
       "\\item 100\n",
       "\\item 10\n",
       "\\end{enumerate*}\n"
      ],
      "text/markdown": [
       "1. 100\n",
       "2. 10\n",
       "\n",
       "\n"
      ],
      "text/plain": [
       "[1] 100  10"
      ]
     },
     "metadata": {},
     "output_type": "display_data"
    }
   ],
   "source": [
    "dim(data.matrix)"
   ]
  },
  {
   "cell_type": "code",
   "execution_count": 5,
   "id": "0de65a7a",
   "metadata": {},
   "outputs": [
    {
     "data": {
      "text/html": [
       "<style>\n",
       ".list-inline {list-style: none; margin:0; padding: 0}\n",
       ".list-inline>li {display: inline-block}\n",
       ".list-inline>li:not(:last-child)::after {content: \"\\00b7\"; padding: 0 .5ex}\n",
       "</style>\n",
       "<ol class=list-inline><li>83.3</li><li>3.9</li><li>3.6</li><li>2.4</li><li>2.2</li><li>1.5</li><li>1.3</li><li>1</li><li>0.7</li><li>0</li></ol>\n"
      ],
      "text/latex": [
       "\\begin{enumerate*}\n",
       "\\item 83.3\n",
       "\\item 3.9\n",
       "\\item 3.6\n",
       "\\item 2.4\n",
       "\\item 2.2\n",
       "\\item 1.5\n",
       "\\item 1.3\n",
       "\\item 1\n",
       "\\item 0.7\n",
       "\\item 0\n",
       "\\end{enumerate*}\n"
      ],
      "text/markdown": [
       "1. 83.3\n",
       "2. 3.9\n",
       "3. 3.6\n",
       "4. 2.4\n",
       "5. 2.2\n",
       "6. 1.5\n",
       "7. 1.3\n",
       "8. 1\n",
       "9. 0.7\n",
       "10. 0\n",
       "\n",
       "\n"
      ],
      "text/plain": [
       " [1] 83.3  3.9  3.6  2.4  2.2  1.5  1.3  1.0  0.7  0.0"
      ]
     },
     "metadata": {},
     "output_type": "display_data"
    }
   ],
   "source": [
    "## 1) Just for reference, draw a PCA plot using this data...\n",
    "\n",
    "pca <- prcomp(t(data.matrix), scale=TRUE, center=TRUE) \n",
    "\n",
    "\n",
    "## calculate the percentage of variation that each PC accounts for...\n",
    "\n",
    "pca.var <- pca$sdev^2\n",
    "pca.var.per <- round(pca.var/sum(pca.var)*100, 1)\n",
    "pca.var.per"
   ]
  },
  {
   "cell_type": "code",
   "execution_count": 6,
   "id": "e47688f4",
   "metadata": {},
   "outputs": [
    {
     "data": {
      "text/html": [
       "<table class=\"dataframe\">\n",
       "<caption>A data.frame: 10 × 3</caption>\n",
       "<thead>\n",
       "\t<tr><th></th><th scope=col>Sample</th><th scope=col>X</th><th scope=col>Y</th></tr>\n",
       "\t<tr><th></th><th scope=col>&lt;chr&gt;</th><th scope=col>&lt;dbl&gt;</th><th scope=col>&lt;dbl&gt;</th></tr>\n",
       "</thead>\n",
       "<tbody>\n",
       "\t<tr><th scope=row>wt1</th><td>wt1</td><td>-8.321469</td><td> 3.6075458</td></tr>\n",
       "\t<tr><th scope=row>wt2</th><td>wt2</td><td>-8.414237</td><td>-1.8232390</td></tr>\n",
       "\t<tr><th scope=row>wt3</th><td>wt3</td><td>-9.355061</td><td>-2.8180128</td></tr>\n",
       "\t<tr><th scope=row>wt4</th><td>wt4</td><td>-8.666935</td><td> 1.7290088</td></tr>\n",
       "\t<tr><th scope=row>wt5</th><td>wt5</td><td>-8.517531</td><td>-0.5626741</td></tr>\n",
       "\t<tr><th scope=row>ko1</th><td>ko1</td><td> 8.658838</td><td> 0.3304517</td></tr>\n",
       "\t<tr><th scope=row>ko2</th><td>ko2</td><td> 8.633283</td><td>-1.6409490</td></tr>\n",
       "\t<tr><th scope=row>ko3</th><td>ko3</td><td> 8.515752</td><td> 2.1215128</td></tr>\n",
       "\t<tr><th scope=row>ko4</th><td>ko4</td><td> 8.708291</td><td>-0.2652123</td></tr>\n",
       "\t<tr><th scope=row>ko5</th><td>ko5</td><td> 8.759070</td><td>-0.6784320</td></tr>\n",
       "</tbody>\n",
       "</table>\n"
      ],
      "text/latex": [
       "A data.frame: 10 × 3\n",
       "\\begin{tabular}{r|lll}\n",
       "  & Sample & X & Y\\\\\n",
       "  & <chr> & <dbl> & <dbl>\\\\\n",
       "\\hline\n",
       "\twt1 & wt1 & -8.321469 &  3.6075458\\\\\n",
       "\twt2 & wt2 & -8.414237 & -1.8232390\\\\\n",
       "\twt3 & wt3 & -9.355061 & -2.8180128\\\\\n",
       "\twt4 & wt4 & -8.666935 &  1.7290088\\\\\n",
       "\twt5 & wt5 & -8.517531 & -0.5626741\\\\\n",
       "\tko1 & ko1 &  8.658838 &  0.3304517\\\\\n",
       "\tko2 & ko2 &  8.633283 & -1.6409490\\\\\n",
       "\tko3 & ko3 &  8.515752 &  2.1215128\\\\\n",
       "\tko4 & ko4 &  8.708291 & -0.2652123\\\\\n",
       "\tko5 & ko5 &  8.759070 & -0.6784320\\\\\n",
       "\\end{tabular}\n"
      ],
      "text/markdown": [
       "\n",
       "A data.frame: 10 × 3\n",
       "\n",
       "| <!--/--> | Sample &lt;chr&gt; | X &lt;dbl&gt; | Y &lt;dbl&gt; |\n",
       "|---|---|---|---|\n",
       "| wt1 | wt1 | -8.321469 |  3.6075458 |\n",
       "| wt2 | wt2 | -8.414237 | -1.8232390 |\n",
       "| wt3 | wt3 | -9.355061 | -2.8180128 |\n",
       "| wt4 | wt4 | -8.666935 |  1.7290088 |\n",
       "| wt5 | wt5 | -8.517531 | -0.5626741 |\n",
       "| ko1 | ko1 |  8.658838 |  0.3304517 |\n",
       "| ko2 | ko2 |  8.633283 | -1.6409490 |\n",
       "| ko3 | ko3 |  8.515752 |  2.1215128 |\n",
       "| ko4 | ko4 |  8.708291 | -0.2652123 |\n",
       "| ko5 | ko5 |  8.759070 | -0.6784320 |\n",
       "\n"
      ],
      "text/plain": [
       "    Sample X         Y         \n",
       "wt1 wt1    -8.321469  3.6075458\n",
       "wt2 wt2    -8.414237 -1.8232390\n",
       "wt3 wt3    -9.355061 -2.8180128\n",
       "wt4 wt4    -8.666935  1.7290088\n",
       "wt5 wt5    -8.517531 -0.5626741\n",
       "ko1 ko1     8.658838  0.3304517\n",
       "ko2 ko2     8.633283 -1.6409490\n",
       "ko3 ko3     8.515752  2.1215128\n",
       "ko4 ko4     8.708291 -0.2652123\n",
       "ko5 ko5     8.759070 -0.6784320"
      ]
     },
     "metadata": {},
     "output_type": "display_data"
    }
   ],
   "source": [
    "## now make a fancy looking plot that shows the PCs and the variation:\n",
    "\n",
    "pca.data <- data.frame(Sample=rownames(pca$x), X=pca$x[,1], Y=pca$x[,2])\n",
    "pca.data"
   ]
  },
  {
   "cell_type": "code",
   "execution_count": 7,
   "id": "883602cd",
   "metadata": {},
   "outputs": [
    {
     "data": {
      "image/png": "[encoded data removed]",
      "text/plain": [
       "plot without title"
      ]
     },
     "metadata": {
      "image/png": {
       "height": 420,
       "width": 420
      }
     },
     "output_type": "display_data"
    }
   ],
   "source": [
    "ggplot(data=pca.data, aes(x=X, y=Y, label=Sample)) +\n",
    "  geom_text() +\n",
    "  xlab(paste(\"PC1 - \", pca.var.per[1], \"%\", sep=\"\")) +\n",
    "  ylab(paste(\"PC2 - \", pca.var.per[2], \"%\", sep=\"\")) +\n",
    "  theme_bw() +\n",
    "  ggtitle(\"PCA Graph\")"
   ]
  },
  {
   "cell_type": "code",
   "execution_count": 8,
   "id": "b3af58e5",
   "metadata": {},
   "outputs": [],
   "source": [
    "## 2) Now draw an MDS plot using the same data and the Euclidean distance. This graph should look the same as the PCA plot\n",
    " \n",
    "## first, calculate the distance matrix using the Euclidian distance.\n",
    "## NOTE: We are transposing, scaling and centering the data just like PCA.\n",
    "\n",
    "distance.matrix <- dist(scale(t(data.matrix), center=TRUE, scale=TRUE), method=\"euclidean\")"
   ]
  },
  {
   "cell_type": "code",
   "execution_count": 9,
   "id": "24103a13",
   "metadata": {},
   "outputs": [],
   "source": [
    "## do the MDS math (this is basically eigen value decomposition)\n",
    "\n",
    "mds.stuff <- cmdscale(distance.matrix, eig=TRUE, x.ret=TRUE)"
   ]
  },
  {
   "cell_type": "code",
   "execution_count": 10,
   "id": "b305e114",
   "metadata": {},
   "outputs": [
    {
     "data": {
      "text/html": [
       "<style>\n",
       ".list-inline {list-style: none; margin:0; padding: 0}\n",
       ".list-inline>li {display: inline-block}\n",
       ".list-inline>li:not(:last-child)::after {content: \"\\00b7\"; padding: 0 .5ex}\n",
       "</style>\n",
       "<ol class=list-inline><li>83.3</li><li>3.9</li><li>3.6</li><li>2.4</li><li>2.2</li><li>1.5</li><li>1.3</li><li>1</li><li>0.7</li><li>0</li></ol>\n"
      ],
      "text/latex": [
       "\\begin{enumerate*}\n",
       "\\item 83.3\n",
       "\\item 3.9\n",
       "\\item 3.6\n",
       "\\item 2.4\n",
       "\\item 2.2\n",
       "\\item 1.5\n",
       "\\item 1.3\n",
       "\\item 1\n",
       "\\item 0.7\n",
       "\\item 0\n",
       "\\end{enumerate*}\n"
      ],
      "text/markdown": [
       "1. 83.3\n",
       "2. 3.9\n",
       "3. 3.6\n",
       "4. 2.4\n",
       "5. 2.2\n",
       "6. 1.5\n",
       "7. 1.3\n",
       "8. 1\n",
       "9. 0.7\n",
       "10. 0\n",
       "\n",
       "\n"
      ],
      "text/plain": [
       " [1] 83.3  3.9  3.6  2.4  2.2  1.5  1.3  1.0  0.7  0.0"
      ]
     },
     "metadata": {},
     "output_type": "display_data"
    }
   ],
   "source": [
    "## calculate the percentage of variation that each MDS axis accounts for...\n",
    "\n",
    "mds.var.per <- round(mds.stuff$eig/sum(mds.stuff$eig)*100, 1)\n",
    "mds.var.per"
   ]
  },
  {
   "cell_type": "code",
   "execution_count": 11,
   "id": "4dd84712",
   "metadata": {},
   "outputs": [
    {
     "data": {
      "text/html": [
       "<table class=\"dataframe\">\n",
       "<caption>A data.frame: 10 × 3</caption>\n",
       "<thead>\n",
       "\t<tr><th></th><th scope=col>Sample</th><th scope=col>X</th><th scope=col>Y</th></tr>\n",
       "\t<tr><th></th><th scope=col>&lt;chr&gt;</th><th scope=col>&lt;dbl&gt;</th><th scope=col>&lt;dbl&gt;</th></tr>\n",
       "</thead>\n",
       "<tbody>\n",
       "\t<tr><th scope=row>wt1</th><td>wt1</td><td>-8.321469</td><td> 3.6075458</td></tr>\n",
       "\t<tr><th scope=row>wt2</th><td>wt2</td><td>-8.414237</td><td>-1.8232390</td></tr>\n",
       "\t<tr><th scope=row>wt3</th><td>wt3</td><td>-9.355061</td><td>-2.8180128</td></tr>\n",
       "\t<tr><th scope=row>wt4</th><td>wt4</td><td>-8.666935</td><td> 1.7290088</td></tr>\n",
       "\t<tr><th scope=row>wt5</th><td>wt5</td><td>-8.517531</td><td>-0.5626741</td></tr>\n",
       "\t<tr><th scope=row>ko1</th><td>ko1</td><td> 8.658838</td><td> 0.3304517</td></tr>\n",
       "\t<tr><th scope=row>ko2</th><td>ko2</td><td> 8.633283</td><td>-1.6409490</td></tr>\n",
       "\t<tr><th scope=row>ko3</th><td>ko3</td><td> 8.515752</td><td> 2.1215128</td></tr>\n",
       "\t<tr><th scope=row>ko4</th><td>ko4</td><td> 8.708291</td><td>-0.2652123</td></tr>\n",
       "\t<tr><th scope=row>ko5</th><td>ko5</td><td> 8.759070</td><td>-0.6784320</td></tr>\n",
       "</tbody>\n",
       "</table>\n"
      ],
      "text/latex": [
       "A data.frame: 10 × 3\n",
       "\\begin{tabular}{r|lll}\n",
       "  & Sample & X & Y\\\\\n",
       "  & <chr> & <dbl> & <dbl>\\\\\n",
       "\\hline\n",
       "\twt1 & wt1 & -8.321469 &  3.6075458\\\\\n",
       "\twt2 & wt2 & -8.414237 & -1.8232390\\\\\n",
       "\twt3 & wt3 & -9.355061 & -2.8180128\\\\\n",
       "\twt4 & wt4 & -8.666935 &  1.7290088\\\\\n",
       "\twt5 & wt5 & -8.517531 & -0.5626741\\\\\n",
       "\tko1 & ko1 &  8.658838 &  0.3304517\\\\\n",
       "\tko2 & ko2 &  8.633283 & -1.6409490\\\\\n",
       "\tko3 & ko3 &  8.515752 &  2.1215128\\\\\n",
       "\tko4 & ko4 &  8.708291 & -0.2652123\\\\\n",
       "\tko5 & ko5 &  8.759070 & -0.6784320\\\\\n",
       "\\end{tabular}\n"
      ],
      "text/markdown": [
       "\n",
       "A data.frame: 10 × 3\n",
       "\n",
       "| <!--/--> | Sample &lt;chr&gt; | X &lt;dbl&gt; | Y &lt;dbl&gt; |\n",
       "|---|---|---|---|\n",
       "| wt1 | wt1 | -8.321469 |  3.6075458 |\n",
       "| wt2 | wt2 | -8.414237 | -1.8232390 |\n",
       "| wt3 | wt3 | -9.355061 | -2.8180128 |\n",
       "| wt4 | wt4 | -8.666935 |  1.7290088 |\n",
       "| wt5 | wt5 | -8.517531 | -0.5626741 |\n",
       "| ko1 | ko1 |  8.658838 |  0.3304517 |\n",
       "| ko2 | ko2 |  8.633283 | -1.6409490 |\n",
       "| ko3 | ko3 |  8.515752 |  2.1215128 |\n",
       "| ko4 | ko4 |  8.708291 | -0.2652123 |\n",
       "| ko5 | ko5 |  8.759070 | -0.6784320 |\n",
       "\n"
      ],
      "text/plain": [
       "    Sample X         Y         \n",
       "wt1 wt1    -8.321469  3.6075458\n",
       "wt2 wt2    -8.414237 -1.8232390\n",
       "wt3 wt3    -9.355061 -2.8180128\n",
       "wt4 wt4    -8.666935  1.7290088\n",
       "wt5 wt5    -8.517531 -0.5626741\n",
       "ko1 ko1     8.658838  0.3304517\n",
       "ko2 ko2     8.633283 -1.6409490\n",
       "ko3 ko3     8.515752  2.1215128\n",
       "ko4 ko4     8.708291 -0.2652123\n",
       "ko5 ko5     8.759070 -0.6784320"
      ]
     },
     "metadata": {},
     "output_type": "display_data"
    }
   ],
   "source": [
    "## now make a fancy looking plot that shows the MDS axes and the variation:\n",
    "\n",
    "mds.values <- mds.stuff$points\n",
    "mds.data <- data.frame(Sample=rownames(mds.values), X=mds.values[,1], Y=mds.values[,2])\n",
    "mds.data"
   ]
  },
  {
   "cell_type": "code",
   "execution_count": 12,
   "id": "10e667c1",
   "metadata": {},
   "outputs": [
    {
     "data": {
      "image/png": "[encoded data removed]",
      "text/plain": [
       "plot without title"
      ]
     },
     "metadata": {
      "image/png": {
       "height": 420,
       "width": 420
      }
     },
     "output_type": "display_data"
    }
   ],
   "source": [
    "ggplot(data=mds.data, aes(x=X, y=Y, label=Sample)) +\n",
    "  geom_text() +\n",
    "  theme_bw() +\n",
    "  xlab(paste(\"MDS1 - \", mds.var.per[1], \"%\", sep=\"\")) +\n",
    "  ylab(paste(\"MDS2 - \", mds.var.per[2], \"%\", sep=\"\")) +\n",
    "  ggtitle(\"MDS plot using Euclidean distance\")"
   ]
  },
  {
   "cell_type": "code",
   "execution_count": 13,
   "id": "49e11046",
   "metadata": {},
   "outputs": [],
   "source": [
    "## 3) Now draw an MDS plot using the same data and the average log(fold change)\n",
    "##    This graph should look different than the first two\n",
    " \n",
    "## first, take the log2 of all the values in the data.matrix.\n",
    "## This makes it easy to compute log2(Fold Change) between a gene in two samples since...\n",
    "\n",
    "## log2(Fold Change) = log2(value for sample 1) - log2(value for sample 2)\n",
    "\n",
    "log2.data.matrix <- log2(data.matrix)"
   ]
  },
  {
   "cell_type": "code",
   "execution_count": 14,
   "id": "c896c861",
   "metadata": {},
   "outputs": [
    {
     "data": {
      "text/html": [
       "<table class=\"dataframe\">\n",
       "<caption>A matrix: 10 × 10 of type dbl</caption>\n",
       "<thead>\n",
       "\t<tr><th></th><th scope=col>wt1</th><th scope=col>wt2</th><th scope=col>wt3</th><th scope=col>wt4</th><th scope=col>wt5</th><th scope=col>ko1</th><th scope=col>ko2</th><th scope=col>ko3</th><th scope=col>ko4</th><th scope=col>ko5</th></tr>\n",
       "</thead>\n",
       "<tbody>\n",
       "\t<tr><th scope=row>wt1</th><td>0</td><td>0</td><td>0</td><td>0</td><td>0</td><td>0</td><td>0</td><td>0</td><td>0</td><td>0</td></tr>\n",
       "\t<tr><th scope=row>wt2</th><td>0</td><td>0</td><td>0</td><td>0</td><td>0</td><td>0</td><td>0</td><td>0</td><td>0</td><td>0</td></tr>\n",
       "\t<tr><th scope=row>wt3</th><td>0</td><td>0</td><td>0</td><td>0</td><td>0</td><td>0</td><td>0</td><td>0</td><td>0</td><td>0</td></tr>\n",
       "\t<tr><th scope=row>wt4</th><td>0</td><td>0</td><td>0</td><td>0</td><td>0</td><td>0</td><td>0</td><td>0</td><td>0</td><td>0</td></tr>\n",
       "\t<tr><th scope=row>wt5</th><td>0</td><td>0</td><td>0</td><td>0</td><td>0</td><td>0</td><td>0</td><td>0</td><td>0</td><td>0</td></tr>\n",
       "\t<tr><th scope=row>ko1</th><td>0</td><td>0</td><td>0</td><td>0</td><td>0</td><td>0</td><td>0</td><td>0</td><td>0</td><td>0</td></tr>\n",
       "\t<tr><th scope=row>ko2</th><td>0</td><td>0</td><td>0</td><td>0</td><td>0</td><td>0</td><td>0</td><td>0</td><td>0</td><td>0</td></tr>\n",
       "\t<tr><th scope=row>ko3</th><td>0</td><td>0</td><td>0</td><td>0</td><td>0</td><td>0</td><td>0</td><td>0</td><td>0</td><td>0</td></tr>\n",
       "\t<tr><th scope=row>ko4</th><td>0</td><td>0</td><td>0</td><td>0</td><td>0</td><td>0</td><td>0</td><td>0</td><td>0</td><td>0</td></tr>\n",
       "\t<tr><th scope=row>ko5</th><td>0</td><td>0</td><td>0</td><td>0</td><td>0</td><td>0</td><td>0</td><td>0</td><td>0</td><td>0</td></tr>\n",
       "</tbody>\n",
       "</table>\n"
      ],
      "text/latex": [
       "A matrix: 10 × 10 of type dbl\n",
       "\\begin{tabular}{r|llllllllll}\n",
       "  & wt1 & wt2 & wt3 & wt4 & wt5 & ko1 & ko2 & ko3 & ko4 & ko5\\\\\n",
       "\\hline\n",
       "\twt1 & 0 & 0 & 0 & 0 & 0 & 0 & 0 & 0 & 0 & 0\\\\\n",
       "\twt2 & 0 & 0 & 0 & 0 & 0 & 0 & 0 & 0 & 0 & 0\\\\\n",
       "\twt3 & 0 & 0 & 0 & 0 & 0 & 0 & 0 & 0 & 0 & 0\\\\\n",
       "\twt4 & 0 & 0 & 0 & 0 & 0 & 0 & 0 & 0 & 0 & 0\\\\\n",
       "\twt5 & 0 & 0 & 0 & 0 & 0 & 0 & 0 & 0 & 0 & 0\\\\\n",
       "\tko1 & 0 & 0 & 0 & 0 & 0 & 0 & 0 & 0 & 0 & 0\\\\\n",
       "\tko2 & 0 & 0 & 0 & 0 & 0 & 0 & 0 & 0 & 0 & 0\\\\\n",
       "\tko3 & 0 & 0 & 0 & 0 & 0 & 0 & 0 & 0 & 0 & 0\\\\\n",
       "\tko4 & 0 & 0 & 0 & 0 & 0 & 0 & 0 & 0 & 0 & 0\\\\\n",
       "\tko5 & 0 & 0 & 0 & 0 & 0 & 0 & 0 & 0 & 0 & 0\\\\\n",
       "\\end{tabular}\n"
      ],
      "text/markdown": [
       "\n",
       "A matrix: 10 × 10 of type dbl\n",
       "\n",
       "| <!--/--> | wt1 | wt2 | wt3 | wt4 | wt5 | ko1 | ko2 | ko3 | ko4 | ko5 |\n",
       "|---|---|---|---|---|---|---|---|---|---|---|\n",
       "| wt1 | 0 | 0 | 0 | 0 | 0 | 0 | 0 | 0 | 0 | 0 |\n",
       "| wt2 | 0 | 0 | 0 | 0 | 0 | 0 | 0 | 0 | 0 | 0 |\n",
       "| wt3 | 0 | 0 | 0 | 0 | 0 | 0 | 0 | 0 | 0 | 0 |\n",
       "| wt4 | 0 | 0 | 0 | 0 | 0 | 0 | 0 | 0 | 0 | 0 |\n",
       "| wt5 | 0 | 0 | 0 | 0 | 0 | 0 | 0 | 0 | 0 | 0 |\n",
       "| ko1 | 0 | 0 | 0 | 0 | 0 | 0 | 0 | 0 | 0 | 0 |\n",
       "| ko2 | 0 | 0 | 0 | 0 | 0 | 0 | 0 | 0 | 0 | 0 |\n",
       "| ko3 | 0 | 0 | 0 | 0 | 0 | 0 | 0 | 0 | 0 | 0 |\n",
       "| ko4 | 0 | 0 | 0 | 0 | 0 | 0 | 0 | 0 | 0 | 0 |\n",
       "| ko5 | 0 | 0 | 0 | 0 | 0 | 0 | 0 | 0 | 0 | 0 |\n",
       "\n"
      ],
      "text/plain": [
       "    wt1 wt2 wt3 wt4 wt5 ko1 ko2 ko3 ko4 ko5\n",
       "wt1 0   0   0   0   0   0   0   0   0   0  \n",
       "wt2 0   0   0   0   0   0   0   0   0   0  \n",
       "wt3 0   0   0   0   0   0   0   0   0   0  \n",
       "wt4 0   0   0   0   0   0   0   0   0   0  \n",
       "wt5 0   0   0   0   0   0   0   0   0   0  \n",
       "ko1 0   0   0   0   0   0   0   0   0   0  \n",
       "ko2 0   0   0   0   0   0   0   0   0   0  \n",
       "ko3 0   0   0   0   0   0   0   0   0   0  \n",
       "ko4 0   0   0   0   0   0   0   0   0   0  \n",
       "ko5 0   0   0   0   0   0   0   0   0   0  "
      ]
     },
     "metadata": {},
     "output_type": "display_data"
    }
   ],
   "source": [
    "## now create an empty distance matrix\n",
    "\n",
    "log2.distance.matrix <- matrix(0,\n",
    "  nrow=ncol(log2.data.matrix),\n",
    "  ncol=ncol(log2.data.matrix),\n",
    "  dimnames=list(colnames(log2.data.matrix),\n",
    "    colnames(log2.data.matrix)))\n",
    " \n",
    "log2.distance.matrix"
   ]
  },
  {
   "cell_type": "code",
   "execution_count": 15,
   "id": "6fa1a35c",
   "metadata": {},
   "outputs": [
    {
     "data": {
      "text/html": [
       "<table class=\"dataframe\">\n",
       "<caption>A matrix: 10 × 10 of type dbl</caption>\n",
       "<thead>\n",
       "\t<tr><th></th><th scope=col>wt1</th><th scope=col>wt2</th><th scope=col>wt3</th><th scope=col>wt4</th><th scope=col>wt5</th><th scope=col>ko1</th><th scope=col>ko2</th><th scope=col>ko3</th><th scope=col>ko4</th><th scope=col>ko5</th></tr>\n",
       "</thead>\n",
       "<tbody>\n",
       "\t<tr><th scope=row>wt1</th><td>0.00000000</td><td>0.00000000</td><td>0.00000000</td><td>0.00000000</td><td>0.000000</td><td>0.00000000</td><td>0.00000000</td><td>0.00000000</td><td>0.00000000</td><td>0</td></tr>\n",
       "\t<tr><th scope=row>wt2</th><td>0.08541658</td><td>0.00000000</td><td>0.00000000</td><td>0.00000000</td><td>0.000000</td><td>0.00000000</td><td>0.00000000</td><td>0.00000000</td><td>0.00000000</td><td>0</td></tr>\n",
       "\t<tr><th scope=row>wt3</th><td>0.09649665</td><td>0.09309184</td><td>0.00000000</td><td>0.00000000</td><td>0.000000</td><td>0.00000000</td><td>0.00000000</td><td>0.00000000</td><td>0.00000000</td><td>0</td></tr>\n",
       "\t<tr><th scope=row>wt4</th><td>0.08913916</td><td>0.09385762</td><td>0.09193983</td><td>0.00000000</td><td>0.000000</td><td>0.00000000</td><td>0.00000000</td><td>0.00000000</td><td>0.00000000</td><td>0</td></tr>\n",
       "\t<tr><th scope=row>wt5</th><td>0.08607076</td><td>0.08346505</td><td>0.08658665</td><td>0.08264893</td><td>0.000000</td><td>0.00000000</td><td>0.00000000</td><td>0.00000000</td><td>0.00000000</td><td>0</td></tr>\n",
       "\t<tr><th scope=row>ko1</th><td>1.23829253</td><td>1.24591462</td><td>1.27299760</td><td>1.25901330</td><td>1.249173</td><td>0.00000000</td><td>0.00000000</td><td>0.00000000</td><td>0.00000000</td><td>0</td></tr>\n",
       "\t<tr><th scope=row>ko2</th><td>1.26733332</td><td>1.27410152</td><td>1.30156180</td><td>1.28484919</td><td>1.277746</td><td>0.10052196</td><td>0.00000000</td><td>0.00000000</td><td>0.00000000</td><td>0</td></tr>\n",
       "\t<tr><th scope=row>ko3</th><td>1.23032137</td><td>1.24114919</td><td>1.26742654</td><td>1.25085068</td><td>1.245344</td><td>0.08258540</td><td>0.10240771</td><td>0.00000000</td><td>0.00000000</td><td>0</td></tr>\n",
       "\t<tr><th scope=row>ko4</th><td>1.26153956</td><td>1.26867732</td><td>1.29858580</td><td>1.28338413</td><td>1.275181</td><td>0.08496160</td><td>0.09627897</td><td>0.09804943</td><td>0.00000000</td><td>0</td></tr>\n",
       "\t<tr><th scope=row>ko5</th><td>1.24780484</td><td>1.25469668</td><td>1.28335718</td><td>1.26886045</td><td>1.259352</td><td>0.08196762</td><td>0.09367882</td><td>0.09423364</td><td>0.09262732</td><td>0</td></tr>\n",
       "</tbody>\n",
       "</table>\n"
      ],
      "text/latex": [
       "A matrix: 10 × 10 of type dbl\n",
       "\\begin{tabular}{r|llllllllll}\n",
       "  & wt1 & wt2 & wt3 & wt4 & wt5 & ko1 & ko2 & ko3 & ko4 & ko5\\\\\n",
       "\\hline\n",
       "\twt1 & 0.00000000 & 0.00000000 & 0.00000000 & 0.00000000 & 0.000000 & 0.00000000 & 0.00000000 & 0.00000000 & 0.00000000 & 0\\\\\n",
       "\twt2 & 0.08541658 & 0.00000000 & 0.00000000 & 0.00000000 & 0.000000 & 0.00000000 & 0.00000000 & 0.00000000 & 0.00000000 & 0\\\\\n",
       "\twt3 & 0.09649665 & 0.09309184 & 0.00000000 & 0.00000000 & 0.000000 & 0.00000000 & 0.00000000 & 0.00000000 & 0.00000000 & 0\\\\\n",
       "\twt4 & 0.08913916 & 0.09385762 & 0.09193983 & 0.00000000 & 0.000000 & 0.00000000 & 0.00000000 & 0.00000000 & 0.00000000 & 0\\\\\n",
       "\twt5 & 0.08607076 & 0.08346505 & 0.08658665 & 0.08264893 & 0.000000 & 0.00000000 & 0.00000000 & 0.00000000 & 0.00000000 & 0\\\\\n",
       "\tko1 & 1.23829253 & 1.24591462 & 1.27299760 & 1.25901330 & 1.249173 & 0.00000000 & 0.00000000 & 0.00000000 & 0.00000000 & 0\\\\\n",
       "\tko2 & 1.26733332 & 1.27410152 & 1.30156180 & 1.28484919 & 1.277746 & 0.10052196 & 0.00000000 & 0.00000000 & 0.00000000 & 0\\\\\n",
       "\tko3 & 1.23032137 & 1.24114919 & 1.26742654 & 1.25085068 & 1.245344 & 0.08258540 & 0.10240771 & 0.00000000 & 0.00000000 & 0\\\\\n",
       "\tko4 & 1.26153956 & 1.26867732 & 1.29858580 & 1.28338413 & 1.275181 & 0.08496160 & 0.09627897 & 0.09804943 & 0.00000000 & 0\\\\\n",
       "\tko5 & 1.24780484 & 1.25469668 & 1.28335718 & 1.26886045 & 1.259352 & 0.08196762 & 0.09367882 & 0.09423364 & 0.09262732 & 0\\\\\n",
       "\\end{tabular}\n"
      ],
      "text/markdown": [
       "\n",
       "A matrix: 10 × 10 of type dbl\n",
       "\n",
       "| <!--/--> | wt1 | wt2 | wt3 | wt4 | wt5 | ko1 | ko2 | ko3 | ko4 | ko5 |\n",
       "|---|---|---|---|---|---|---|---|---|---|---|\n",
       "| wt1 | 0.00000000 | 0.00000000 | 0.00000000 | 0.00000000 | 0.000000 | 0.00000000 | 0.00000000 | 0.00000000 | 0.00000000 | 0 |\n",
       "| wt2 | 0.08541658 | 0.00000000 | 0.00000000 | 0.00000000 | 0.000000 | 0.00000000 | 0.00000000 | 0.00000000 | 0.00000000 | 0 |\n",
       "| wt3 | 0.09649665 | 0.09309184 | 0.00000000 | 0.00000000 | 0.000000 | 0.00000000 | 0.00000000 | 0.00000000 | 0.00000000 | 0 |\n",
       "| wt4 | 0.08913916 | 0.09385762 | 0.09193983 | 0.00000000 | 0.000000 | 0.00000000 | 0.00000000 | 0.00000000 | 0.00000000 | 0 |\n",
       "| wt5 | 0.08607076 | 0.08346505 | 0.08658665 | 0.08264893 | 0.000000 | 0.00000000 | 0.00000000 | 0.00000000 | 0.00000000 | 0 |\n",
       "| ko1 | 1.23829253 | 1.24591462 | 1.27299760 | 1.25901330 | 1.249173 | 0.00000000 | 0.00000000 | 0.00000000 | 0.00000000 | 0 |\n",
       "| ko2 | 1.26733332 | 1.27410152 | 1.30156180 | 1.28484919 | 1.277746 | 0.10052196 | 0.00000000 | 0.00000000 | 0.00000000 | 0 |\n",
       "| ko3 | 1.23032137 | 1.24114919 | 1.26742654 | 1.25085068 | 1.245344 | 0.08258540 | 0.10240771 | 0.00000000 | 0.00000000 | 0 |\n",
       "| ko4 | 1.26153956 | 1.26867732 | 1.29858580 | 1.28338413 | 1.275181 | 0.08496160 | 0.09627897 | 0.09804943 | 0.00000000 | 0 |\n",
       "| ko5 | 1.24780484 | 1.25469668 | 1.28335718 | 1.26886045 | 1.259352 | 0.08196762 | 0.09367882 | 0.09423364 | 0.09262732 | 0 |\n",
       "\n"
      ],
      "text/plain": [
       "    wt1        wt2        wt3        wt4        wt5      ko1        ko2       \n",
       "wt1 0.00000000 0.00000000 0.00000000 0.00000000 0.000000 0.00000000 0.00000000\n",
       "wt2 0.08541658 0.00000000 0.00000000 0.00000000 0.000000 0.00000000 0.00000000\n",
       "wt3 0.09649665 0.09309184 0.00000000 0.00000000 0.000000 0.00000000 0.00000000\n",
       "wt4 0.08913916 0.09385762 0.09193983 0.00000000 0.000000 0.00000000 0.00000000\n",
       "wt5 0.08607076 0.08346505 0.08658665 0.08264893 0.000000 0.00000000 0.00000000\n",
       "ko1 1.23829253 1.24591462 1.27299760 1.25901330 1.249173 0.00000000 0.00000000\n",
       "ko2 1.26733332 1.27410152 1.30156180 1.28484919 1.277746 0.10052196 0.00000000\n",
       "ko3 1.23032137 1.24114919 1.26742654 1.25085068 1.245344 0.08258540 0.10240771\n",
       "ko4 1.26153956 1.26867732 1.29858580 1.28338413 1.275181 0.08496160 0.09627897\n",
       "ko5 1.24780484 1.25469668 1.28335718 1.26886045 1.259352 0.08196762 0.09367882\n",
       "    ko3        ko4        ko5\n",
       "wt1 0.00000000 0.00000000 0  \n",
       "wt2 0.00000000 0.00000000 0  \n",
       "wt3 0.00000000 0.00000000 0  \n",
       "wt4 0.00000000 0.00000000 0  \n",
       "wt5 0.00000000 0.00000000 0  \n",
       "ko1 0.00000000 0.00000000 0  \n",
       "ko2 0.00000000 0.00000000 0  \n",
       "ko3 0.00000000 0.00000000 0  \n",
       "ko4 0.09804943 0.00000000 0  \n",
       "ko5 0.09423364 0.09262732 0  "
      ]
     },
     "metadata": {},
     "output_type": "display_data"
    }
   ],
   "source": [
    "## now compute the distance matrix using avg(absolute value(log2(FC)))\n",
    "\n",
    "for(i in 1:ncol(log2.distance.matrix)) {\n",
    "  for(j in 1:i) {\n",
    "    log2.distance.matrix[i, j] <-\n",
    "      mean(abs(log2.data.matrix[,i] - log2.data.matrix[,j]))\n",
    "  }\n",
    "}\n",
    "\n",
    "log2.distance.matrix"
   ]
  },
  {
   "cell_type": "code",
   "execution_count": 16,
   "id": "61e289d5",
   "metadata": {},
   "outputs": [],
   "source": [
    "## do the MDS math (this is basically eigen value decomposition)\n",
    "## cmdscale() is the function for \"Classical Multi-Dimensional Scalign\"\n",
    "\n",
    "mds.stuff <- cmdscale(as.dist(log2.distance.matrix), eig=TRUE, x.ret=TRUE)"
   ]
  },
  {
   "cell_type": "code",
   "execution_count": 17,
   "id": "c2b48f07",
   "metadata": {},
   "outputs": [
    {
     "data": {
      "text/html": [
       "<style>\n",
       ".list-inline {list-style: none; margin:0; padding: 0}\n",
       ".list-inline>li {display: inline-block}\n",
       ".list-inline>li:not(:last-child)::after {content: \"\\00b7\"; padding: 0 .5ex}\n",
       "</style>\n",
       "<ol class=list-inline><li>99.2</li><li>0.2</li><li>0.2</li><li>0.1</li><li>0.1</li><li>0.1</li><li>0</li><li>0</li><li>0</li><li>0</li></ol>\n"
      ],
      "text/latex": [
       "\\begin{enumerate*}\n",
       "\\item 99.2\n",
       "\\item 0.2\n",
       "\\item 0.2\n",
       "\\item 0.1\n",
       "\\item 0.1\n",
       "\\item 0.1\n",
       "\\item 0\n",
       "\\item 0\n",
       "\\item 0\n",
       "\\item 0\n",
       "\\end{enumerate*}\n"
      ],
      "text/markdown": [
       "1. 99.2\n",
       "2. 0.2\n",
       "3. 0.2\n",
       "4. 0.1\n",
       "5. 0.1\n",
       "6. 0.1\n",
       "7. 0\n",
       "8. 0\n",
       "9. 0\n",
       "10. 0\n",
       "\n",
       "\n"
      ],
      "text/plain": [
       " [1] 99.2  0.2  0.2  0.1  0.1  0.1  0.0  0.0  0.0  0.0"
      ]
     },
     "metadata": {},
     "output_type": "display_data"
    }
   ],
   "source": [
    "## calculate the percentage of variation that each MDS axis accounts for...\n",
    "\n",
    "mds.var.per <- round(mds.stuff$eig/sum(mds.stuff$eig)*100, 1)\n",
    "mds.var.per"
   ]
  },
  {
   "cell_type": "code",
   "execution_count": 18,
   "id": "11456b5b",
   "metadata": {},
   "outputs": [
    {
     "data": {
      "text/html": [
       "<table class=\"dataframe\">\n",
       "<caption>A data.frame: 10 × 3</caption>\n",
       "<thead>\n",
       "\t<tr><th></th><th scope=col>Sample</th><th scope=col>X</th><th scope=col>Y</th></tr>\n",
       "\t<tr><th></th><th scope=col>&lt;chr&gt;</th><th scope=col>&lt;dbl&gt;</th><th scope=col>&lt;dbl&gt;</th></tr>\n",
       "</thead>\n",
       "<tbody>\n",
       "\t<tr><th scope=row>wt1</th><td>wt1</td><td>-0.6156424</td><td>-0.002489660</td></tr>\n",
       "\t<tr><th scope=row>wt2</th><td>wt2</td><td>-0.6234259</td><td> 0.041973968</td></tr>\n",
       "\t<tr><th scope=row>wt3</th><td>wt3</td><td>-0.6513855</td><td>-0.002942103</td></tr>\n",
       "\t<tr><th scope=row>wt4</th><td>wt4</td><td>-0.6359309</td><td>-0.046567857</td></tr>\n",
       "\t<tr><th scope=row>wt5</th><td>wt5</td><td>-0.6281307</td><td> 0.010910295</td></tr>\n",
       "\t<tr><th scope=row>ko1</th><td>ko1</td><td> 0.6199150</td><td> 0.013825031</td></tr>\n",
       "\t<tr><th scope=row>ko2</th><td>ko2</td><td> 0.6474819</td><td>-0.026785576</td></tr>\n",
       "\t<tr><th scope=row>ko3</th><td>ko3</td><td> 0.6135180</td><td>-0.042866973</td></tr>\n",
       "\t<tr><th scope=row>ko4</th><td>ko4</td><td> 0.6441233</td><td> 0.030372474</td></tr>\n",
       "\t<tr><th scope=row>ko5</th><td>ko5</td><td> 0.6294771</td><td> 0.024570400</td></tr>\n",
       "</tbody>\n",
       "</table>\n"
      ],
      "text/latex": [
       "A data.frame: 10 × 3\n",
       "\\begin{tabular}{r|lll}\n",
       "  & Sample & X & Y\\\\\n",
       "  & <chr> & <dbl> & <dbl>\\\\\n",
       "\\hline\n",
       "\twt1 & wt1 & -0.6156424 & -0.002489660\\\\\n",
       "\twt2 & wt2 & -0.6234259 &  0.041973968\\\\\n",
       "\twt3 & wt3 & -0.6513855 & -0.002942103\\\\\n",
       "\twt4 & wt4 & -0.6359309 & -0.046567857\\\\\n",
       "\twt5 & wt5 & -0.6281307 &  0.010910295\\\\\n",
       "\tko1 & ko1 &  0.6199150 &  0.013825031\\\\\n",
       "\tko2 & ko2 &  0.6474819 & -0.026785576\\\\\n",
       "\tko3 & ko3 &  0.6135180 & -0.042866973\\\\\n",
       "\tko4 & ko4 &  0.6441233 &  0.030372474\\\\\n",
       "\tko5 & ko5 &  0.6294771 &  0.024570400\\\\\n",
       "\\end{tabular}\n"
      ],
      "text/markdown": [
       "\n",
       "A data.frame: 10 × 3\n",
       "\n",
       "| <!--/--> | Sample &lt;chr&gt; | X &lt;dbl&gt; | Y &lt;dbl&gt; |\n",
       "|---|---|---|---|\n",
       "| wt1 | wt1 | -0.6156424 | -0.002489660 |\n",
       "| wt2 | wt2 | -0.6234259 |  0.041973968 |\n",
       "| wt3 | wt3 | -0.6513855 | -0.002942103 |\n",
       "| wt4 | wt4 | -0.6359309 | -0.046567857 |\n",
       "| wt5 | wt5 | -0.6281307 |  0.010910295 |\n",
       "| ko1 | ko1 |  0.6199150 |  0.013825031 |\n",
       "| ko2 | ko2 |  0.6474819 | -0.026785576 |\n",
       "| ko3 | ko3 |  0.6135180 | -0.042866973 |\n",
       "| ko4 | ko4 |  0.6441233 |  0.030372474 |\n",
       "| ko5 | ko5 |  0.6294771 |  0.024570400 |\n",
       "\n"
      ],
      "text/plain": [
       "    Sample X          Y           \n",
       "wt1 wt1    -0.6156424 -0.002489660\n",
       "wt2 wt2    -0.6234259  0.041973968\n",
       "wt3 wt3    -0.6513855 -0.002942103\n",
       "wt4 wt4    -0.6359309 -0.046567857\n",
       "wt5 wt5    -0.6281307  0.010910295\n",
       "ko1 ko1     0.6199150  0.013825031\n",
       "ko2 ko2     0.6474819 -0.026785576\n",
       "ko3 ko3     0.6135180 -0.042866973\n",
       "ko4 ko4     0.6441233  0.030372474\n",
       "ko5 ko5     0.6294771  0.024570400"
      ]
     },
     "metadata": {},
     "output_type": "display_data"
    }
   ],
   "source": [
    "## now make a fancy looking plot that shows the MDS axes and the variation:\n",
    "\n",
    "mds.values <- mds.stuff$points\n",
    "mds.data <- data.frame(Sample=rownames(mds.values), X=mds.values[,1], Y=mds.values[,2])\n",
    "mds.data"
   ]
  },
  {
   "cell_type": "code",
   "execution_count": 19,
   "id": "cd3a366c",
   "metadata": {},
   "outputs": [
    {
     "data": {
      "image/png": "[encoded data removed]",
      "text/plain": [
       "plot without title"
      ]
     },
     "metadata": {
      "image/png": {
       "height": 420,
       "width": 420
      }
     },
     "output_type": "display_data"
    }
   ],
   "source": [
    "ggplot(data=mds.data, aes(x=X, y=Y, label=Sample)) +\n",
    "  geom_text() +\n",
    "  theme_bw() +\n",
    "  xlab(paste(\"MDS1 - \", mds.var.per[1], \"%\", sep=\"\")) +\n",
    "  ylab(paste(\"MDS2 - \", mds.var.per[2], \"%\", sep=\"\")) +\n",
    "  ggtitle(\"MDS plot using avg(logFC) as the distance\")"
   ]
  }
 ],
 "metadata": {
  "kernelspec": {
   "display_name": "R",
   "language": "R",
   "name": "ir"
  },
  "language_info": {
   "codemirror_mode": "r",
   "file_extension": ".r",
   "mimetype": "text/x-r-source",
   "name": "R",
   "pygments_lexer": "r",
   "version": "4.2.0"
  }
 },
 "nbformat": 4,
 "nbformat_minor": 5
}
