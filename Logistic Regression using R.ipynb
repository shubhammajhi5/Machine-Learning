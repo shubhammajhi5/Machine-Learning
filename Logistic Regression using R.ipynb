{
 "cells": [
  {
   "cell_type": "code",
   "execution_count": 1,
   "id": "f4da1d07",
   "metadata": {},
   "outputs": [],
   "source": [
    "library(ggplot2)\n",
    "library(cowplot)"
   ]
  },
  {
   "cell_type": "code",
   "execution_count": 2,
   "id": "a55b2b30",
   "metadata": {},
   "outputs": [],
   "source": [
    "## NOTE: The data used in this demo comes from the UCI machine learning\n",
    "## Specifically, this is the heart disease data set.\n",
    "## http://archive.ics.uci.edu/ml/datasets/Heart+Disease\n",
    "\n",
    "url <- \"http://archive.ics.uci.edu/ml/machine-learning-databases/heart-disease/processed.cleveland.data\""
   ]
  },
  {
   "cell_type": "code",
   "execution_count": 3,
   "id": "2e5c16ab",
   "metadata": {},
   "outputs": [],
   "source": [
    "data <- read.csv(url, header=FALSE)"
   ]
  },
  {
   "cell_type": "code",
   "execution_count": 4,
   "id": "23d8e23b",
   "metadata": {},
   "outputs": [
    {
     "data": {
      "text/html": [
       "<table class=\"dataframe\">\n",
       "<caption>A data.frame: 6 × 14</caption>\n",
       "<thead>\n",
       "\t<tr><th></th><th scope=col>V1</th><th scope=col>V2</th><th scope=col>V3</th><th scope=col>V4</th><th scope=col>V5</th><th scope=col>V6</th><th scope=col>V7</th><th scope=col>V8</th><th scope=col>V9</th><th scope=col>V10</th><th scope=col>V11</th><th scope=col>V12</th><th scope=col>V13</th><th scope=col>V14</th></tr>\n",
       "\t<tr><th></th><th scope=col>&lt;dbl&gt;</th><th scope=col>&lt;dbl&gt;</th><th scope=col>&lt;dbl&gt;</th><th scope=col>&lt;dbl&gt;</th><th scope=col>&lt;dbl&gt;</th><th scope=col>&lt;dbl&gt;</th><th scope=col>&lt;dbl&gt;</th><th scope=col>&lt;dbl&gt;</th><th scope=col>&lt;dbl&gt;</th><th scope=col>&lt;dbl&gt;</th><th scope=col>&lt;dbl&gt;</th><th scope=col>&lt;chr&gt;</th><th scope=col>&lt;chr&gt;</th><th scope=col>&lt;int&gt;</th></tr>\n",
       "</thead>\n",
       "<tbody>\n",
       "\t<tr><th scope=row>1</th><td>63</td><td>1</td><td>1</td><td>145</td><td>233</td><td>1</td><td>2</td><td>150</td><td>0</td><td>2.3</td><td>3</td><td>0.0</td><td>6.0</td><td>0</td></tr>\n",
       "\t<tr><th scope=row>2</th><td>67</td><td>1</td><td>4</td><td>160</td><td>286</td><td>0</td><td>2</td><td>108</td><td>1</td><td>1.5</td><td>2</td><td>3.0</td><td>3.0</td><td>2</td></tr>\n",
       "\t<tr><th scope=row>3</th><td>67</td><td>1</td><td>4</td><td>120</td><td>229</td><td>0</td><td>2</td><td>129</td><td>1</td><td>2.6</td><td>2</td><td>2.0</td><td>7.0</td><td>1</td></tr>\n",
       "\t<tr><th scope=row>4</th><td>37</td><td>1</td><td>3</td><td>130</td><td>250</td><td>0</td><td>0</td><td>187</td><td>0</td><td>3.5</td><td>3</td><td>0.0</td><td>3.0</td><td>0</td></tr>\n",
       "\t<tr><th scope=row>5</th><td>41</td><td>0</td><td>2</td><td>130</td><td>204</td><td>0</td><td>2</td><td>172</td><td>0</td><td>1.4</td><td>1</td><td>0.0</td><td>3.0</td><td>0</td></tr>\n",
       "\t<tr><th scope=row>6</th><td>56</td><td>1</td><td>2</td><td>120</td><td>236</td><td>0</td><td>0</td><td>178</td><td>0</td><td>0.8</td><td>1</td><td>0.0</td><td>3.0</td><td>0</td></tr>\n",
       "</tbody>\n",
       "</table>\n"
      ],
      "text/latex": [
       "A data.frame: 6 × 14\n",
       "\\begin{tabular}{r|llllllllllllll}\n",
       "  & V1 & V2 & V3 & V4 & V5 & V6 & V7 & V8 & V9 & V10 & V11 & V12 & V13 & V14\\\\\n",
       "  & <dbl> & <dbl> & <dbl> & <dbl> & <dbl> & <dbl> & <dbl> & <dbl> & <dbl> & <dbl> & <dbl> & <chr> & <chr> & <int>\\\\\n",
       "\\hline\n",
       "\t1 & 63 & 1 & 1 & 145 & 233 & 1 & 2 & 150 & 0 & 2.3 & 3 & 0.0 & 6.0 & 0\\\\\n",
       "\t2 & 67 & 1 & 4 & 160 & 286 & 0 & 2 & 108 & 1 & 1.5 & 2 & 3.0 & 3.0 & 2\\\\\n",
       "\t3 & 67 & 1 & 4 & 120 & 229 & 0 & 2 & 129 & 1 & 2.6 & 2 & 2.0 & 7.0 & 1\\\\\n",
       "\t4 & 37 & 1 & 3 & 130 & 250 & 0 & 0 & 187 & 0 & 3.5 & 3 & 0.0 & 3.0 & 0\\\\\n",
       "\t5 & 41 & 0 & 2 & 130 & 204 & 0 & 2 & 172 & 0 & 1.4 & 1 & 0.0 & 3.0 & 0\\\\\n",
       "\t6 & 56 & 1 & 2 & 120 & 236 & 0 & 0 & 178 & 0 & 0.8 & 1 & 0.0 & 3.0 & 0\\\\\n",
       "\\end{tabular}\n"
      ],
      "text/markdown": [
       "\n",
       "A data.frame: 6 × 14\n",
       "\n",
       "| <!--/--> | V1 &lt;dbl&gt; | V2 &lt;dbl&gt; | V3 &lt;dbl&gt; | V4 &lt;dbl&gt; | V5 &lt;dbl&gt; | V6 &lt;dbl&gt; | V7 &lt;dbl&gt; | V8 &lt;dbl&gt; | V9 &lt;dbl&gt; | V10 &lt;dbl&gt; | V11 &lt;dbl&gt; | V12 &lt;chr&gt; | V13 &lt;chr&gt; | V14 &lt;int&gt; |\n",
       "|---|---|---|---|---|---|---|---|---|---|---|---|---|---|---|\n",
       "| 1 | 63 | 1 | 1 | 145 | 233 | 1 | 2 | 150 | 0 | 2.3 | 3 | 0.0 | 6.0 | 0 |\n",
       "| 2 | 67 | 1 | 4 | 160 | 286 | 0 | 2 | 108 | 1 | 1.5 | 2 | 3.0 | 3.0 | 2 |\n",
       "| 3 | 67 | 1 | 4 | 120 | 229 | 0 | 2 | 129 | 1 | 2.6 | 2 | 2.0 | 7.0 | 1 |\n",
       "| 4 | 37 | 1 | 3 | 130 | 250 | 0 | 0 | 187 | 0 | 3.5 | 3 | 0.0 | 3.0 | 0 |\n",
       "| 5 | 41 | 0 | 2 | 130 | 204 | 0 | 2 | 172 | 0 | 1.4 | 1 | 0.0 | 3.0 | 0 |\n",
       "| 6 | 56 | 1 | 2 | 120 | 236 | 0 | 0 | 178 | 0 | 0.8 | 1 | 0.0 | 3.0 | 0 |\n",
       "\n"
      ],
      "text/plain": [
       "  V1 V2 V3 V4  V5  V6 V7 V8  V9 V10 V11 V12 V13 V14\n",
       "1 63 1  1  145 233 1  2  150 0  2.3 3   0.0 6.0 0  \n",
       "2 67 1  4  160 286 0  2  108 1  1.5 2   3.0 3.0 2  \n",
       "3 67 1  4  120 229 0  2  129 1  2.6 2   2.0 7.0 1  \n",
       "4 37 1  3  130 250 0  0  187 0  3.5 3   0.0 3.0 0  \n",
       "5 41 0  2  130 204 0  2  172 0  1.4 1   0.0 3.0 0  \n",
       "6 56 1  2  120 236 0  0  178 0  0.8 1   0.0 3.0 0  "
      ]
     },
     "metadata": {},
     "output_type": "display_data"
    }
   ],
   "source": [
    "## Reformat the data so that it is\n",
    "## 1) Easy to use (add nice column names)\n",
    "## 2) Interpreted correctly by glm()..\n",
    "\n",
    "head(data) # you see data, but no column names"
   ]
  },
  {
   "cell_type": "code",
   "execution_count": 5,
   "id": "ceabf672",
   "metadata": {},
   "outputs": [],
   "source": [
    "colnames(data) <- c(\n",
    "  \"age\",\n",
    "  \"sex\",# 0 = female, 1 = male\n",
    "  \"cp\", # chest pain\n",
    "  # 1 = typical angina,\n",
    "  # 2 = atypical angina,\n",
    "  # 3 = non-anginal pain,\n",
    "  # 4 = asymptomatic\n",
    "  \"trestbps\", # resting blood pressure (in mm Hg)\n",
    "  \"chol\", # serum cholestoral in mg/dl\n",
    "  \"fbs\",  # fasting blood sugar if less than 120 mg/dl, 1 = TRUE, 0 = FALSE\n",
    "  \"restecg\", # resting electrocardiographic results\n",
    "  # 1 = normal\n",
    "  # 2 = having ST-T wave abnormality\n",
    "  # 3 = showing probable or definite left ventricular hypertrophy\n",
    "  \"thalach\", # maximum heart rate achieved\n",
    "  \"exang\",   # exercise induced angina, 1 = yes, 0 = no\n",
    "  \"oldpeak\", # ST depression induced by exercise relative to rest\n",
    "  \"slope\", # the slope of the peak exercise ST segment\n",
    "  # 1 = upsloping\n",
    "  # 2 = flat\n",
    "  # 3 = downsloping\n",
    "  \"ca\", # number of major vessels (0-3) colored by fluoroscopy\n",
    "  \"thal\", # this is short of thalium heart scan\n",
    "  # 3 = normal (no cold spots)\n",
    "  # 6 = fixed defect (cold spots during rest and exercise)\n",
    "  # 7 = reversible defect (when cold spots only appear during exercise)\n",
    "  \"hd\" # (the predicted attribute) - diagnosis of heart disease\n",
    "  # 0 if less than or equal to 50% diameter narrowing\n",
    "  # 1 if greater than 50% diameter narrowing\n",
    ")"
   ]
  },
  {
   "cell_type": "code",
   "execution_count": 6,
   "id": "461d784d",
   "metadata": {},
   "outputs": [
    {
     "data": {
      "text/html": [
       "<table class=\"dataframe\">\n",
       "<caption>A data.frame: 6 × 14</caption>\n",
       "<thead>\n",
       "\t<tr><th></th><th scope=col>age</th><th scope=col>sex</th><th scope=col>cp</th><th scope=col>trestbps</th><th scope=col>chol</th><th scope=col>fbs</th><th scope=col>restecg</th><th scope=col>thalach</th><th scope=col>exang</th><th scope=col>oldpeak</th><th scope=col>slope</th><th scope=col>ca</th><th scope=col>thal</th><th scope=col>hd</th></tr>\n",
       "\t<tr><th></th><th scope=col>&lt;dbl&gt;</th><th scope=col>&lt;dbl&gt;</th><th scope=col>&lt;dbl&gt;</th><th scope=col>&lt;dbl&gt;</th><th scope=col>&lt;dbl&gt;</th><th scope=col>&lt;dbl&gt;</th><th scope=col>&lt;dbl&gt;</th><th scope=col>&lt;dbl&gt;</th><th scope=col>&lt;dbl&gt;</th><th scope=col>&lt;dbl&gt;</th><th scope=col>&lt;dbl&gt;</th><th scope=col>&lt;chr&gt;</th><th scope=col>&lt;chr&gt;</th><th scope=col>&lt;int&gt;</th></tr>\n",
       "</thead>\n",
       "<tbody>\n",
       "\t<tr><th scope=row>1</th><td>63</td><td>1</td><td>1</td><td>145</td><td>233</td><td>1</td><td>2</td><td>150</td><td>0</td><td>2.3</td><td>3</td><td>0.0</td><td>6.0</td><td>0</td></tr>\n",
       "\t<tr><th scope=row>2</th><td>67</td><td>1</td><td>4</td><td>160</td><td>286</td><td>0</td><td>2</td><td>108</td><td>1</td><td>1.5</td><td>2</td><td>3.0</td><td>3.0</td><td>2</td></tr>\n",
       "\t<tr><th scope=row>3</th><td>67</td><td>1</td><td>4</td><td>120</td><td>229</td><td>0</td><td>2</td><td>129</td><td>1</td><td>2.6</td><td>2</td><td>2.0</td><td>7.0</td><td>1</td></tr>\n",
       "\t<tr><th scope=row>4</th><td>37</td><td>1</td><td>3</td><td>130</td><td>250</td><td>0</td><td>0</td><td>187</td><td>0</td><td>3.5</td><td>3</td><td>0.0</td><td>3.0</td><td>0</td></tr>\n",
       "\t<tr><th scope=row>5</th><td>41</td><td>0</td><td>2</td><td>130</td><td>204</td><td>0</td><td>2</td><td>172</td><td>0</td><td>1.4</td><td>1</td><td>0.0</td><td>3.0</td><td>0</td></tr>\n",
       "\t<tr><th scope=row>6</th><td>56</td><td>1</td><td>2</td><td>120</td><td>236</td><td>0</td><td>0</td><td>178</td><td>0</td><td>0.8</td><td>1</td><td>0.0</td><td>3.0</td><td>0</td></tr>\n",
       "</tbody>\n",
       "</table>\n"
      ],
      "text/latex": [
       "A data.frame: 6 × 14\n",
       "\\begin{tabular}{r|llllllllllllll}\n",
       "  & age & sex & cp & trestbps & chol & fbs & restecg & thalach & exang & oldpeak & slope & ca & thal & hd\\\\\n",
       "  & <dbl> & <dbl> & <dbl> & <dbl> & <dbl> & <dbl> & <dbl> & <dbl> & <dbl> & <dbl> & <dbl> & <chr> & <chr> & <int>\\\\\n",
       "\\hline\n",
       "\t1 & 63 & 1 & 1 & 145 & 233 & 1 & 2 & 150 & 0 & 2.3 & 3 & 0.0 & 6.0 & 0\\\\\n",
       "\t2 & 67 & 1 & 4 & 160 & 286 & 0 & 2 & 108 & 1 & 1.5 & 2 & 3.0 & 3.0 & 2\\\\\n",
       "\t3 & 67 & 1 & 4 & 120 & 229 & 0 & 2 & 129 & 1 & 2.6 & 2 & 2.0 & 7.0 & 1\\\\\n",
       "\t4 & 37 & 1 & 3 & 130 & 250 & 0 & 0 & 187 & 0 & 3.5 & 3 & 0.0 & 3.0 & 0\\\\\n",
       "\t5 & 41 & 0 & 2 & 130 & 204 & 0 & 2 & 172 & 0 & 1.4 & 1 & 0.0 & 3.0 & 0\\\\\n",
       "\t6 & 56 & 1 & 2 & 120 & 236 & 0 & 0 & 178 & 0 & 0.8 & 1 & 0.0 & 3.0 & 0\\\\\n",
       "\\end{tabular}\n"
      ],
      "text/markdown": [
       "\n",
       "A data.frame: 6 × 14\n",
       "\n",
       "| <!--/--> | age &lt;dbl&gt; | sex &lt;dbl&gt; | cp &lt;dbl&gt; | trestbps &lt;dbl&gt; | chol &lt;dbl&gt; | fbs &lt;dbl&gt; | restecg &lt;dbl&gt; | thalach &lt;dbl&gt; | exang &lt;dbl&gt; | oldpeak &lt;dbl&gt; | slope &lt;dbl&gt; | ca &lt;chr&gt; | thal &lt;chr&gt; | hd &lt;int&gt; |\n",
       "|---|---|---|---|---|---|---|---|---|---|---|---|---|---|---|\n",
       "| 1 | 63 | 1 | 1 | 145 | 233 | 1 | 2 | 150 | 0 | 2.3 | 3 | 0.0 | 6.0 | 0 |\n",
       "| 2 | 67 | 1 | 4 | 160 | 286 | 0 | 2 | 108 | 1 | 1.5 | 2 | 3.0 | 3.0 | 2 |\n",
       "| 3 | 67 | 1 | 4 | 120 | 229 | 0 | 2 | 129 | 1 | 2.6 | 2 | 2.0 | 7.0 | 1 |\n",
       "| 4 | 37 | 1 | 3 | 130 | 250 | 0 | 0 | 187 | 0 | 3.5 | 3 | 0.0 | 3.0 | 0 |\n",
       "| 5 | 41 | 0 | 2 | 130 | 204 | 0 | 2 | 172 | 0 | 1.4 | 1 | 0.0 | 3.0 | 0 |\n",
       "| 6 | 56 | 1 | 2 | 120 | 236 | 0 | 0 | 178 | 0 | 0.8 | 1 | 0.0 | 3.0 | 0 |\n",
       "\n"
      ],
      "text/plain": [
       "  age sex cp trestbps chol fbs restecg thalach exang oldpeak slope ca  thal hd\n",
       "1 63  1   1  145      233  1   2       150     0     2.3     3     0.0 6.0  0 \n",
       "2 67  1   4  160      286  0   2       108     1     1.5     2     3.0 3.0  2 \n",
       "3 67  1   4  120      229  0   2       129     1     2.6     2     2.0 7.0  1 \n",
       "4 37  1   3  130      250  0   0       187     0     3.5     3     0.0 3.0  0 \n",
       "5 41  0   2  130      204  0   2       172     0     1.4     1     0.0 3.0  0 \n",
       "6 56  1   2  120      236  0   0       178     0     0.8     1     0.0 3.0  0 "
      ]
     },
     "metadata": {},
     "output_type": "display_data"
    }
   ],
   "source": [
    "head(data) # now we have data and column names"
   ]
  },
  {
   "cell_type": "code",
   "execution_count": 7,
   "id": "5ed77d44",
   "metadata": {},
   "outputs": [
    {
     "name": "stdout",
     "output_type": "stream",
     "text": [
      "'data.frame':\t303 obs. of  14 variables:\n",
      " $ age     : num  63 67 67 37 41 56 62 57 63 53 ...\n",
      " $ sex     : num  1 1 1 1 0 1 0 0 1 1 ...\n",
      " $ cp      : num  1 4 4 3 2 2 4 4 4 4 ...\n",
      " $ trestbps: num  145 160 120 130 130 120 140 120 130 140 ...\n",
      " $ chol    : num  233 286 229 250 204 236 268 354 254 203 ...\n",
      " $ fbs     : num  1 0 0 0 0 0 0 0 0 1 ...\n",
      " $ restecg : num  2 2 2 0 2 0 2 0 2 2 ...\n",
      " $ thalach : num  150 108 129 187 172 178 160 163 147 155 ...\n",
      " $ exang   : num  0 1 1 0 0 0 0 1 0 1 ...\n",
      " $ oldpeak : num  2.3 1.5 2.6 3.5 1.4 0.8 3.6 0.6 1.4 3.1 ...\n",
      " $ slope   : num  3 2 2 3 1 1 3 1 2 3 ...\n",
      " $ ca      : chr  \"0.0\" \"3.0\" \"2.0\" \"0.0\" ...\n",
      " $ thal    : chr  \"6.0\" \"3.0\" \"7.0\" \"3.0\" ...\n",
      " $ hd      : int  0 2 1 0 0 0 3 0 2 1 ...\n"
     ]
    }
   ],
   "source": [
    "str(data) # this shows that we need to tell R which columns contain factors\n",
    "# it also shows us that there are some missing values. There are \"?\"s\n",
    "# in the dataset. These are in the \"ca\" and \"thal\" columns..."
   ]
  },
  {
   "cell_type": "code",
   "execution_count": 8,
   "id": "9cc6d502",
   "metadata": {},
   "outputs": [],
   "source": [
    "## First, convert \"?\"s to NAs...\n",
    "\n",
    "data[data == \"?\"] <- NA"
   ]
  },
  {
   "cell_type": "code",
   "execution_count": 9,
   "id": "fe1dab2a",
   "metadata": {},
   "outputs": [],
   "source": [
    "## Now add factors for variables that are factors and clean up the factors\n",
    "## that had missing data...\n",
    "\n",
    "data[data$sex == 0,]$sex <- \"F\"\n",
    "data[data$sex == 1,]$sex <- \"M\"\n",
    "data$sex <- as.factor(data$sex)"
   ]
  },
  {
   "cell_type": "code",
   "execution_count": 10,
   "id": "8e6620df",
   "metadata": {},
   "outputs": [],
   "source": [
    "data$cp <- as.factor(data$cp)\n",
    "data$fbs <- as.factor(data$fbs)\n",
    "data$restecg <- as.factor(data$restecg)\n",
    "data$exang <- as.factor(data$exang)\n",
    "data$slope <- as.factor(data$slope)"
   ]
  },
  {
   "cell_type": "code",
   "execution_count": 13,
   "id": "6cc5ccfd",
   "metadata": {},
   "outputs": [],
   "source": [
    "data$ca <- as.integer(data$ca) # since this column had \"?\"s in it\n",
    "# R thinks that the levels for the factor are strings, but\n",
    "# we know they are integers, so first convert the strings to integers...\n",
    "data$ca <- as.factor(data$ca)  # ...then convert the integers to factor levels"
   ]
  },
  {
   "cell_type": "code",
   "execution_count": 14,
   "id": "29d7ffdd",
   "metadata": {},
   "outputs": [],
   "source": [
    "data$thal <- as.integer(data$thal) # \"thal\" also had \"?\"s in it.\n",
    "data$thal <- as.factor(data$thal)"
   ]
  },
  {
   "cell_type": "code",
   "execution_count": 15,
   "id": "b58ebdb4",
   "metadata": {},
   "outputs": [],
   "source": [
    "## This next line replaces 0 and 1 with \"Healthy\" and \"Unhealthy\"\n",
    "\n",
    "data$hd <- ifelse(test=data$hd == 0, yes=\"Healthy\", no=\"Unhealthy\")\n",
    "data$hd <- as.factor(data$hd) # Now convert to a factor"
   ]
  },
  {
   "cell_type": "code",
   "execution_count": 16,
   "id": "a545cec0",
   "metadata": {},
   "outputs": [
    {
     "name": "stdout",
     "output_type": "stream",
     "text": [
      "'data.frame':\t303 obs. of  14 variables:\n",
      " $ age     : num  63 67 67 37 41 56 62 57 63 53 ...\n",
      " $ sex     : Factor w/ 2 levels \"F\",\"M\": 2 2 2 2 1 2 1 1 2 2 ...\n",
      " $ cp      : Factor w/ 4 levels \"1\",\"2\",\"3\",\"4\": 1 4 4 3 2 2 4 4 4 4 ...\n",
      " $ trestbps: num  145 160 120 130 130 120 140 120 130 140 ...\n",
      " $ chol    : num  233 286 229 250 204 236 268 354 254 203 ...\n",
      " $ fbs     : Factor w/ 2 levels \"0\",\"1\": 2 1 1 1 1 1 1 1 1 2 ...\n",
      " $ restecg : Factor w/ 3 levels \"0\",\"1\",\"2\": 3 3 3 1 3 1 3 1 3 3 ...\n",
      " $ thalach : num  150 108 129 187 172 178 160 163 147 155 ...\n",
      " $ exang   : Factor w/ 2 levels \"0\",\"1\": 1 2 2 1 1 1 1 2 1 2 ...\n",
      " $ oldpeak : num  2.3 1.5 2.6 3.5 1.4 0.8 3.6 0.6 1.4 3.1 ...\n",
      " $ slope   : Factor w/ 3 levels \"1\",\"2\",\"3\": 3 2 2 3 1 1 3 1 2 3 ...\n",
      " $ ca      : Factor w/ 4 levels \"1\",\"2\",\"3\",\"4\": 1 4 3 1 1 1 3 1 2 1 ...\n",
      " $ thal    : Factor w/ 3 levels \"3\",\"6\",\"7\": 2 1 3 1 1 1 1 1 3 3 ...\n",
      " $ hd      : Factor w/ 2 levels \"Healthy\",\"Unhealthy\": 1 2 2 1 1 1 2 1 2 2 ...\n"
     ]
    }
   ],
   "source": [
    " str(data) ## this shows that the correct columns are factors"
   ]
  },
  {
   "cell_type": "code",
   "execution_count": 17,
   "id": "e5a69d3d",
   "metadata": {},
   "outputs": [
    {
     "data": {
      "text/html": [
       "6"
      ],
      "text/latex": [
       "6"
      ],
      "text/markdown": [
       "6"
      ],
      "text/plain": [
       "[1] 6"
      ]
     },
     "metadata": {},
     "output_type": "display_data"
    }
   ],
   "source": [
    "## Now determine how many rows have \"NA\" (aka \"Missing data\"). If it's just\n",
    "## a few, we can remove them from the dataset, otherwise we should consider\n",
    "## imputing the values with a Random Forest or some other imputation method.\n",
    "\n",
    "nrow(data[is.na(data$ca) | is.na(data$thal),])"
   ]
  },
  {
   "cell_type": "code",
   "execution_count": 18,
   "id": "dc0297df",
   "metadata": {},
   "outputs": [
    {
     "data": {
      "text/html": [
       "<table class=\"dataframe\">\n",
       "<caption>A data.frame: 6 × 14</caption>\n",
       "<thead>\n",
       "\t<tr><th></th><th scope=col>age</th><th scope=col>sex</th><th scope=col>cp</th><th scope=col>trestbps</th><th scope=col>chol</th><th scope=col>fbs</th><th scope=col>restecg</th><th scope=col>thalach</th><th scope=col>exang</th><th scope=col>oldpeak</th><th scope=col>slope</th><th scope=col>ca</th><th scope=col>thal</th><th scope=col>hd</th></tr>\n",
       "\t<tr><th></th><th scope=col>&lt;dbl&gt;</th><th scope=col>&lt;fct&gt;</th><th scope=col>&lt;fct&gt;</th><th scope=col>&lt;dbl&gt;</th><th scope=col>&lt;dbl&gt;</th><th scope=col>&lt;fct&gt;</th><th scope=col>&lt;fct&gt;</th><th scope=col>&lt;dbl&gt;</th><th scope=col>&lt;fct&gt;</th><th scope=col>&lt;dbl&gt;</th><th scope=col>&lt;fct&gt;</th><th scope=col>&lt;fct&gt;</th><th scope=col>&lt;fct&gt;</th><th scope=col>&lt;fct&gt;</th></tr>\n",
       "</thead>\n",
       "<tbody>\n",
       "\t<tr><th scope=row>88</th><td>53</td><td>F</td><td>3</td><td>128</td><td>216</td><td>0</td><td>2</td><td>115</td><td>0</td><td>0.0</td><td>1</td><td>1 </td><td>NA</td><td>Healthy  </td></tr>\n",
       "\t<tr><th scope=row>167</th><td>52</td><td>M</td><td>3</td><td>138</td><td>223</td><td>0</td><td>0</td><td>169</td><td>0</td><td>0.0</td><td>1</td><td>NA</td><td>3 </td><td>Healthy  </td></tr>\n",
       "\t<tr><th scope=row>193</th><td>43</td><td>M</td><td>4</td><td>132</td><td>247</td><td>1</td><td>2</td><td>143</td><td>1</td><td>0.1</td><td>2</td><td>NA</td><td>7 </td><td>Unhealthy</td></tr>\n",
       "\t<tr><th scope=row>267</th><td>52</td><td>M</td><td>4</td><td>128</td><td>204</td><td>1</td><td>0</td><td>156</td><td>1</td><td>1.0</td><td>2</td><td>1 </td><td>NA</td><td>Unhealthy</td></tr>\n",
       "\t<tr><th scope=row>288</th><td>58</td><td>M</td><td>2</td><td>125</td><td>220</td><td>0</td><td>0</td><td>144</td><td>0</td><td>0.4</td><td>2</td><td>NA</td><td>7 </td><td>Healthy  </td></tr>\n",
       "\t<tr><th scope=row>303</th><td>38</td><td>M</td><td>3</td><td>138</td><td>175</td><td>0</td><td>0</td><td>173</td><td>0</td><td>0.0</td><td>1</td><td>NA</td><td>3 </td><td>Healthy  </td></tr>\n",
       "</tbody>\n",
       "</table>\n"
      ],
      "text/latex": [
       "A data.frame: 6 × 14\n",
       "\\begin{tabular}{r|llllllllllllll}\n",
       "  & age & sex & cp & trestbps & chol & fbs & restecg & thalach & exang & oldpeak & slope & ca & thal & hd\\\\\n",
       "  & <dbl> & <fct> & <fct> & <dbl> & <dbl> & <fct> & <fct> & <dbl> & <fct> & <dbl> & <fct> & <fct> & <fct> & <fct>\\\\\n",
       "\\hline\n",
       "\t88 & 53 & F & 3 & 128 & 216 & 0 & 2 & 115 & 0 & 0.0 & 1 & 1  & NA & Healthy  \\\\\n",
       "\t167 & 52 & M & 3 & 138 & 223 & 0 & 0 & 169 & 0 & 0.0 & 1 & NA & 3  & Healthy  \\\\\n",
       "\t193 & 43 & M & 4 & 132 & 247 & 1 & 2 & 143 & 1 & 0.1 & 2 & NA & 7  & Unhealthy\\\\\n",
       "\t267 & 52 & M & 4 & 128 & 204 & 1 & 0 & 156 & 1 & 1.0 & 2 & 1  & NA & Unhealthy\\\\\n",
       "\t288 & 58 & M & 2 & 125 & 220 & 0 & 0 & 144 & 0 & 0.4 & 2 & NA & 7  & Healthy  \\\\\n",
       "\t303 & 38 & M & 3 & 138 & 175 & 0 & 0 & 173 & 0 & 0.0 & 1 & NA & 3  & Healthy  \\\\\n",
       "\\end{tabular}\n"
      ],
      "text/markdown": [
       "\n",
       "A data.frame: 6 × 14\n",
       "\n",
       "| <!--/--> | age &lt;dbl&gt; | sex &lt;fct&gt; | cp &lt;fct&gt; | trestbps &lt;dbl&gt; | chol &lt;dbl&gt; | fbs &lt;fct&gt; | restecg &lt;fct&gt; | thalach &lt;dbl&gt; | exang &lt;fct&gt; | oldpeak &lt;dbl&gt; | slope &lt;fct&gt; | ca &lt;fct&gt; | thal &lt;fct&gt; | hd &lt;fct&gt; |\n",
       "|---|---|---|---|---|---|---|---|---|---|---|---|---|---|---|\n",
       "| 88 | 53 | F | 3 | 128 | 216 | 0 | 2 | 115 | 0 | 0.0 | 1 | 1  | NA | Healthy   |\n",
       "| 167 | 52 | M | 3 | 138 | 223 | 0 | 0 | 169 | 0 | 0.0 | 1 | NA | 3  | Healthy   |\n",
       "| 193 | 43 | M | 4 | 132 | 247 | 1 | 2 | 143 | 1 | 0.1 | 2 | NA | 7  | Unhealthy |\n",
       "| 267 | 52 | M | 4 | 128 | 204 | 1 | 0 | 156 | 1 | 1.0 | 2 | 1  | NA | Unhealthy |\n",
       "| 288 | 58 | M | 2 | 125 | 220 | 0 | 0 | 144 | 0 | 0.4 | 2 | NA | 7  | Healthy   |\n",
       "| 303 | 38 | M | 3 | 138 | 175 | 0 | 0 | 173 | 0 | 0.0 | 1 | NA | 3  | Healthy   |\n",
       "\n"
      ],
      "text/plain": [
       "    age sex cp trestbps chol fbs restecg thalach exang oldpeak slope ca thal\n",
       "88  53  F   3  128      216  0   2       115     0     0.0     1     1  NA  \n",
       "167 52  M   3  138      223  0   0       169     0     0.0     1     NA 3   \n",
       "193 43  M   4  132      247  1   2       143     1     0.1     2     NA 7   \n",
       "267 52  M   4  128      204  1   0       156     1     1.0     2     1  NA  \n",
       "288 58  M   2  125      220  0   0       144     0     0.4     2     NA 7   \n",
       "303 38  M   3  138      175  0   0       173     0     0.0     1     NA 3   \n",
       "    hd       \n",
       "88  Healthy  \n",
       "167 Healthy  \n",
       "193 Unhealthy\n",
       "267 Unhealthy\n",
       "288 Healthy  \n",
       "303 Healthy  "
      ]
     },
     "metadata": {},
     "output_type": "display_data"
    }
   ],
   "source": [
    "data[is.na(data$ca) | is.na(data$thal),]"
   ]
  },
  {
   "cell_type": "code",
   "execution_count": 19,
   "id": "e5cb2263",
   "metadata": {},
   "outputs": [
    {
     "data": {
      "text/html": [
       "303"
      ],
      "text/latex": [
       "303"
      ],
      "text/markdown": [
       "303"
      ],
      "text/plain": [
       "[1] 303"
      ]
     },
     "metadata": {},
     "output_type": "display_data"
    }
   ],
   "source": [
    "## so 6 of the 303 rows of data have missing values. This isn't a large\n",
    "## percentage (2%), so we can just remove them from the dataset\n",
    "## NOTE: This is different from when we did machine learning with\n",
    "## Random Forests. When we did that, we imputed values.\n",
    "\n",
    "nrow(data)"
   ]
  },
  {
   "cell_type": "code",
   "execution_count": 20,
   "id": "c2a52945",
   "metadata": {},
   "outputs": [],
   "source": [
    "data <- data[!(is.na(data$ca) | is.na(data$thal)),]"
   ]
  },
  {
   "cell_type": "code",
   "execution_count": 21,
   "id": "7ad49518",
   "metadata": {},
   "outputs": [
    {
     "data": {
      "text/html": [
       "297"
      ],
      "text/latex": [
       "297"
      ],
      "text/markdown": [
       "297"
      ],
      "text/plain": [
       "[1] 297"
      ]
     },
     "metadata": {},
     "output_type": "display_data"
    }
   ],
   "source": [
    "nrow(data)"
   ]
  },
  {
   "cell_type": "code",
   "execution_count": 22,
   "id": "ee074f85",
   "metadata": {},
   "outputs": [
    {
     "data": {
      "text/plain": [
       "           sex\n",
       "hd            F   M\n",
       "  Healthy    71  89\n",
       "  Unhealthy  25 112"
      ]
     },
     "metadata": {},
     "output_type": "display_data"
    }
   ],
   "source": [
    "## Now we can do some quality control by making sure all of the factor\n",
    "## levels are represented by people with and without heart disease (hd)\n",
    "\n",
    "## NOTE: We also want to exclude variables that only have 1 or 2 samples in\n",
    "## a category since +/- one or two samples can have a large effect on the\n",
    "## odds/log(odds)\n",
    "\n",
    "xtabs(~ hd + sex, data=data)"
   ]
  },
  {
   "cell_type": "code",
   "execution_count": 23,
   "id": "f2db977e",
   "metadata": {},
   "outputs": [
    {
     "data": {
      "text/plain": [
       "           cp\n",
       "hd            1   2   3   4\n",
       "  Healthy    16  40  65  39\n",
       "  Unhealthy   7   9  18 103"
      ]
     },
     "metadata": {},
     "output_type": "display_data"
    }
   ],
   "source": [
    "xtabs(~ hd + cp, data=data)"
   ]
  },
  {
   "cell_type": "code",
   "execution_count": 24,
   "id": "effa9237",
   "metadata": {},
   "outputs": [
    {
     "data": {
      "text/plain": [
       "           fbs\n",
       "hd            0   1\n",
       "  Healthy   137  23\n",
       "  Unhealthy 117  20"
      ]
     },
     "metadata": {},
     "output_type": "display_data"
    }
   ],
   "source": [
    "xtabs(~ hd + fbs, data=data)"
   ]
  },
  {
   "cell_type": "code",
   "execution_count": 25,
   "id": "d92c0c5a",
   "metadata": {},
   "outputs": [
    {
     "data": {
      "text/plain": [
       "           restecg\n",
       "hd           0  1  2\n",
       "  Healthy   92  1 67\n",
       "  Unhealthy 55  3 79"
      ]
     },
     "metadata": {},
     "output_type": "display_data"
    }
   ],
   "source": [
    "xtabs(~ hd + restecg, data=data)"
   ]
  },
  {
   "cell_type": "code",
   "execution_count": 26,
   "id": "d3cc9e69",
   "metadata": {},
   "outputs": [
    {
     "data": {
      "text/plain": [
       "           exang\n",
       "hd            0   1\n",
       "  Healthy   137  23\n",
       "  Unhealthy  63  74"
      ]
     },
     "metadata": {},
     "output_type": "display_data"
    }
   ],
   "source": [
    "xtabs(~ hd + exang, data=data)"
   ]
  },
  {
   "cell_type": "code",
   "execution_count": 27,
   "id": "cc05008a",
   "metadata": {},
   "outputs": [
    {
     "data": {
      "text/plain": [
       "           slope\n",
       "hd            1   2   3\n",
       "  Healthy   103  48   9\n",
       "  Unhealthy  36  89  12"
      ]
     },
     "metadata": {},
     "output_type": "display_data"
    }
   ],
   "source": [
    "xtabs(~ hd + slope, data=data)"
   ]
  },
  {
   "cell_type": "code",
   "execution_count": 28,
   "id": "a99bf070",
   "metadata": {},
   "outputs": [
    {
     "data": {
      "text/plain": [
       "           ca\n",
       "hd            1   2   3   4\n",
       "  Healthy   129  21   7   3\n",
       "  Unhealthy  45  44  31  17"
      ]
     },
     "metadata": {},
     "output_type": "display_data"
    }
   ],
   "source": [
    "xtabs(~ hd + ca, data=data)"
   ]
  },
  {
   "cell_type": "code",
   "execution_count": 29,
   "id": "d71414ed",
   "metadata": {},
   "outputs": [
    {
     "data": {
      "text/plain": [
       "           thal\n",
       "hd            3   6   7\n",
       "  Healthy   127   6  27\n",
       "  Unhealthy  37  12  88"
      ]
     },
     "metadata": {},
     "output_type": "display_data"
    }
   ],
   "source": [
    "xtabs(~ hd + thal, data=data)"
   ]
  },
  {
   "cell_type": "code",
   "execution_count": 30,
   "id": "41876447",
   "metadata": {},
   "outputs": [
    {
     "data": {
      "text/plain": [
       "           sex\n",
       "hd            F   M\n",
       "  Healthy    71  89\n",
       "  Unhealthy  25 112"
      ]
     },
     "metadata": {},
     "output_type": "display_data"
    }
   ],
   "source": [
    "## Now we are ready for some logistic regression. First we'll create a very\n",
    "## simple model that uses sex to predict heart disease\n",
    "\n",
    " \n",
    "## let's start super simple and see if sex (female/male) is a good predictor...\n",
    "## First, let's just look at the raw data...\n",
    "\n",
    "xtabs(~ hd + sex, data=data)"
   ]
  },
  {
   "cell_type": "code",
   "execution_count": null,
   "id": "bc1611c9",
   "metadata": {},
   "outputs": [],
   "source": [
    "## Most of the females are healthy and most of the males are unhealthy.\n",
    "## Being female is likely to decrease the odds in being unhealthy.\n",
    "##    In other words, if a sample is female, the odds are against it that it\n",
    "##    will be unhealthy\n",
    "## Being male is likely to increase the odds in being unhealthy...\n",
    "##    In other words, if a sample is male, the odds are for it being unhealthy"
   ]
  },
  {
   "cell_type": "code",
   "execution_count": 31,
   "id": "ef3d426b",
   "metadata": {},
   "outputs": [
    {
     "data": {
      "text/plain": [
       "\n",
       "Call:\n",
       "glm(formula = hd ~ sex, family = \"binomial\", data = data)\n",
       "\n",
       "Deviance Residuals: \n",
       "    Min       1Q   Median       3Q      Max  \n",
       "-1.2765  -1.2765  -0.7768   1.0815   1.6404  \n",
       "\n",
       "Coefficients:\n",
       "            Estimate Std. Error z value Pr(>|z|)    \n",
       "(Intercept)  -1.0438     0.2326  -4.488 7.18e-06 ***\n",
       "sexM          1.2737     0.2725   4.674 2.95e-06 ***\n",
       "---\n",
       "Signif. codes:  0 '***' 0.001 '**' 0.01 '*' 0.05 '.' 0.1 ' ' 1\n",
       "\n",
       "(Dispersion parameter for binomial family taken to be 1)\n",
       "\n",
       "    Null deviance: 409.95  on 296  degrees of freedom\n",
       "Residual deviance: 386.12  on 295  degrees of freedom\n",
       "AIC: 390.12\n",
       "\n",
       "Number of Fisher Scoring iterations: 4\n"
      ]
     },
     "metadata": {},
     "output_type": "display_data"
    }
   ],
   "source": [
    "## Now do the actual logistic regression\n",
    "\n",
    "logistic <- glm(hd ~ sex, data=data, family=\"binomial\")\n",
    "summary(logistic)"
   ]
  },
  {
   "cell_type": "code",
   "execution_count": 32,
   "id": "1cf0b507",
   "metadata": {},
   "outputs": [
    {
     "data": {
      "text/html": [
       "-1.04380405217311"
      ],
      "text/latex": [
       "-1.04380405217311"
      ],
      "text/markdown": [
       "-1.04380405217311"
      ],
      "text/plain": [
       "[1] -1.043804"
      ]
     },
     "metadata": {},
     "output_type": "display_data"
    }
   ],
   "source": [
    "## Let's start by going through the first coefficient...\n",
    "## (Intercept)  -1.0438     0.2326  -4.488 7.18e-06 ***\n",
    "\n",
    "## The intercept is the log(odds) a female will be unhealthy. This is because\n",
    "## female is the first factor in \"sex\" (the factors are ordered,\n",
    "## alphabetically by default,\"female\", \"male\")\n",
    "\n",
    "female.log.odds <- log(25 / 71)\n",
    "female.log.odds"
   ]
  },
  {
   "cell_type": "code",
   "execution_count": 33,
   "id": "38301d38",
   "metadata": {},
   "outputs": [
    {
     "data": {
      "text/html": [
       "1.27366655373607"
      ],
      "text/latex": [
       "1.27366655373607"
      ],
      "text/markdown": [
       "1.27366655373607"
      ],
      "text/plain": [
       "[1] 1.273667"
      ]
     },
     "metadata": {},
     "output_type": "display_data"
    }
   ],
   "source": [
    "## Now let's look at the second coefficient...\n",
    "##   sexM        1.2737     0.2725   4.674 2.95e-06 ***\n",
    "\n",
    "## sexM is the log(odds ratio) that tells us that if a sample has sex=M, the\n",
    "## odds of being unhealthy are, on a log scale, 1.27 times greater than if\n",
    "## a sample has sex=F.\n",
    "\n",
    "male.log.odds.ratio <- log((112 / 89) / (25/71))\n",
    "male.log.odds.ratio"
   ]
  },
  {
   "cell_type": "code",
   "execution_count": 34,
   "id": "f2d8a7e4",
   "metadata": {},
   "outputs": [],
   "source": [
    " ## Now calculate the overall \"Pseudo R-squared\" and its p-value\n",
    " \n",
    "## NOTE: Since we are doing logistic regression...\n",
    "## Null deviance = 2*(0 - LogLikelihood(null model))\n",
    "##               = -2*LogLikihood(null model)\n",
    "## Residual deviance = 2*(0 - LogLikelihood(proposed model))\n",
    "##                   = -2*LogLikelihood(proposed model)\n",
    "\n",
    "ll.null <- logistic$null.deviance/-2\n",
    "ll.proposed <- logistic$deviance/-2"
   ]
  },
  {
   "cell_type": "code",
   "execution_count": 35,
   "id": "b148a70e",
   "metadata": {},
   "outputs": [
    {
     "data": {
      "text/html": [
       "0.0581256946935369"
      ],
      "text/latex": [
       "0.0581256946935369"
      ],
      "text/markdown": [
       "0.0581256946935369"
      ],
      "text/plain": [
       "[1] 0.05812569"
      ]
     },
     "metadata": {},
     "output_type": "display_data"
    }
   ],
   "source": [
    "## McFadden's Pseudo R^2 = [ LL(Null) - LL(Proposed) ] / LL(Null)\n",
    "\n",
    "(ll.null - ll.proposed) / ll.null"
   ]
  },
  {
   "cell_type": "code",
   "execution_count": 36,
   "id": "7de3aaba",
   "metadata": {},
   "outputs": [
    {
     "data": {
      "text/html": [
       "1.05315696719011e-06"
      ],
      "text/latex": [
       "1.05315696719011e-06"
      ],
      "text/markdown": [
       "1.05315696719011e-06"
      ],
      "text/plain": [
       "[1] 1.053157e-06"
      ]
     },
     "metadata": {},
     "output_type": "display_data"
    },
    {
     "data": {
      "text/html": [
       "1.05315696719011e-06"
      ],
      "text/latex": [
       "1.05315696719011e-06"
      ],
      "text/markdown": [
       "1.05315696719011e-06"
      ],
      "text/plain": [
       "[1] 1.053157e-06"
      ]
     },
     "metadata": {},
     "output_type": "display_data"
    }
   ],
   "source": [
    "## chi-square value = 2*(LL(Proposed) - LL(Null))\n",
    "## p-value = 1 - pchisq(chi-square value, df = 2-1)\n",
    "\n",
    "1 - pchisq(2*(ll.proposed - ll.null), df=1)\n",
    "1 - pchisq((logistic$null.deviance - logistic$deviance), df=1)"
   ]
  },
  {
   "cell_type": "code",
   "execution_count": 37,
   "id": "9ff11e01",
   "metadata": {},
   "outputs": [],
   "source": [
    "## Lastly, let's  see what this logistic regression predicts, given\n",
    "## that a patient is either female or male (and no other data about them).\n",
    "\n",
    "predicted.data <- data.frame(\n",
    "  probability.of.hd=logistic$fitted.values,\n",
    "  sex=data$sex)"
   ]
  },
  {
   "cell_type": "code",
   "execution_count": 38,
   "id": "c7a71a98",
   "metadata": {},
   "outputs": [
    {
     "data": {
      "image/png": "[encoded data removed]",
      "text/plain": [
       "plot without title"
      ]
     },
     "metadata": {
      "image/png": {
       "height": 420,
       "width": 420
      }
     },
     "output_type": "display_data"
    }
   ],
   "source": [
    "## We can plot the data...\n",
    "\n",
    "ggplot(data=predicted.data, aes(x=sex, y=probability.of.hd)) +\n",
    "  geom_point(aes(color=sex), size=5) +\n",
    "  xlab(\"Sex\") +\n",
    "  ylab(\"Predicted probability of getting heart disease\")"
   ]
  },
  {
   "cell_type": "code",
   "execution_count": 39,
   "id": "dccae4fe",
   "metadata": {},
   "outputs": [
    {
     "data": {
      "text/plain": [
       "                   sex\n",
       "probability.of.hd     F   M\n",
       "  0.260416666667241  96   0\n",
       "  0.55721393034826    0 201"
      ]
     },
     "metadata": {},
     "output_type": "display_data"
    }
   ],
   "source": [
    "## Since there are only two probabilities (one for females and one for males),\n",
    "## we can use a table to summarize the predicted probabilities.\n",
    "\n",
    "xtabs(~ probability.of.hd + sex, data=predicted.data)"
   ]
  },
  {
   "cell_type": "code",
   "execution_count": 40,
   "id": "2c80ad4b",
   "metadata": {},
   "outputs": [
    {
     "data": {
      "text/plain": [
       "\n",
       "Call:\n",
       "glm(formula = hd ~ ., family = \"binomial\", data = data)\n",
       "\n",
       "Deviance Residuals: \n",
       "    Min       1Q   Median       3Q      Max  \n",
       "-3.0490  -0.4847  -0.1213   0.3039   2.9086  \n",
       "\n",
       "Coefficients:\n",
       "             Estimate Std. Error z value Pr(>|z|)    \n",
       "(Intercept) -6.253978   2.960399  -2.113 0.034640 *  \n",
       "age         -0.023508   0.025122  -0.936 0.349402    \n",
       "sexM         1.670152   0.552486   3.023 0.002503 ** \n",
       "cp2          1.448396   0.809136   1.790 0.073446 .  \n",
       "cp3          0.393353   0.700338   0.562 0.574347    \n",
       "cp4          2.373287   0.709094   3.347 0.000817 ***\n",
       "trestbps     0.027720   0.011748   2.359 0.018300 *  \n",
       "chol         0.004445   0.004091   1.087 0.277253    \n",
       "fbs1        -0.574079   0.592539  -0.969 0.332622    \n",
       "restecg1     1.000887   2.638393   0.379 0.704424    \n",
       "restecg2     0.486408   0.396327   1.227 0.219713    \n",
       "thalach     -0.019695   0.011717  -1.681 0.092781 .  \n",
       "exang1       0.653306   0.447445   1.460 0.144267    \n",
       "oldpeak      0.390679   0.239173   1.633 0.102373    \n",
       "slope2       1.302289   0.486197   2.679 0.007395 ** \n",
       "slope3       0.606760   0.939324   0.646 0.518309    \n",
       "ca2          2.237444   0.514770   4.346 1.38e-05 ***\n",
       "ca3          3.271852   0.785123   4.167 3.08e-05 ***\n",
       "ca4          2.188715   0.928644   2.357 0.018428 *  \n",
       "thal6       -0.168439   0.810310  -0.208 0.835331    \n",
       "thal7        1.433319   0.440567   3.253 0.001141 ** \n",
       "---\n",
       "Signif. codes:  0 '***' 0.001 '**' 0.01 '*' 0.05 '.' 0.1 ' ' 1\n",
       "\n",
       "(Dispersion parameter for binomial family taken to be 1)\n",
       "\n",
       "    Null deviance: 409.95  on 296  degrees of freedom\n",
       "Residual deviance: 183.10  on 276  degrees of freedom\n",
       "AIC: 225.1\n",
       "\n",
       "Number of Fisher Scoring iterations: 6\n"
      ]
     },
     "metadata": {},
     "output_type": "display_data"
    }
   ],
   "source": [
    "## Now we will use all of the data available to predict heart disease\n",
    "\n",
    "logistic <- glm(hd ~ ., data=data, family=\"binomial\")\n",
    "summary(logistic)"
   ]
  },
  {
   "cell_type": "code",
   "execution_count": 41,
   "id": "fe450684",
   "metadata": {},
   "outputs": [],
   "source": [
    "## Now calculate the overall \"Pseudo R-squared\" and its p-value\n",
    "\n",
    "ll.null <- logistic$null.deviance/-2\n",
    "ll.proposed <- logistic$deviance/-2"
   ]
  },
  {
   "cell_type": "code",
   "execution_count": 42,
   "id": "4ca13410",
   "metadata": {},
   "outputs": [
    {
     "data": {
      "text/html": [
       "0.553353050469787"
      ],
      "text/latex": [
       "0.553353050469787"
      ],
      "text/markdown": [
       "0.553353050469787"
      ],
      "text/plain": [
       "[1] 0.5533531"
      ]
     },
     "metadata": {},
     "output_type": "display_data"
    }
   ],
   "source": [
    "## McFadden's Pseudo R^2 = [ LL(Null) - LL(Proposed) ] / LL(Null)\n",
    "\n",
    "(ll.null - ll.proposed) / ll.null"
   ]
  },
  {
   "cell_type": "code",
   "execution_count": 43,
   "id": "76f7e295",
   "metadata": {},
   "outputs": [
    {
     "data": {
      "text/html": [
       "0"
      ],
      "text/latex": [
       "0"
      ],
      "text/markdown": [
       "0"
      ],
      "text/plain": [
       "[1] 0"
      ]
     },
     "metadata": {},
     "output_type": "display_data"
    }
   ],
   "source": [
    "## The p-value for the R^2\n",
    "\n",
    "1 - pchisq(2*(ll.proposed - ll.null), df=(length(logistic$coefficients)-1))"
   ]
  },
  {
   "cell_type": "code",
   "execution_count": 44,
   "id": "821b3226",
   "metadata": {},
   "outputs": [],
   "source": [
    "## now we can plot the data\n",
    "## keeping the predicted value of hd and actual status of having hd\n",
    "\n",
    "predicted.data <- data.frame(probability.of.hd=logistic$fitted.values, hd=data$hd)"
   ]
  },
  {
   "cell_type": "code",
   "execution_count": 45,
   "id": "22c3e67d",
   "metadata": {},
   "outputs": [],
   "source": [
    "## order the predicted value in ascending order\n",
    "\n",
    "predicted.data <- predicted.data[order(predicted.data$probability.of.hd, decreasing=FALSE),]\n",
    "predicted.data$rank <- 1:nrow(predicted.data)"
   ]
  },
  {
   "cell_type": "code",
   "execution_count": 46,
   "id": "81c1e80e",
   "metadata": {},
   "outputs": [
    {
     "data": {
      "image/png": "[encoded data removed]",
      "text/plain": [
       "plot without title"
      ]
     },
     "metadata": {
      "image/png": {
       "height": 420,
       "width": 420
      }
     },
     "output_type": "display_data"
    }
   ],
   "source": [
    "## Lastly, we can plot the predicted probabilities for each sample having\n",
    "## heart disease and color by whether or not they actually had heart disease\n",
    "\n",
    "ggplot(data=predicted.data, aes(x=rank, y=probability.of.hd)) +\n",
    "  geom_point(aes(color=hd), alpha=1, shape=4, stroke=2) +\n",
    "  xlab(\"Index\") +\n",
    "  ylab(\"Predicted probability of getting heart disease\")"
   ]
  }
 ],
 "metadata": {
  "kernelspec": {
   "display_name": "R",
   "language": "R",
   "name": "ir"
  },
  "language_info": {
   "codemirror_mode": "r",
   "file_extension": ".r",
   "mimetype": "text/x-r-source",
   "name": "R",
   "pygments_lexer": "r",
   "version": "4.2.0"
  }
 },
 "nbformat": 4,
 "nbformat_minor": 5
}
