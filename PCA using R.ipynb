{
 "cells": [
  {
   "cell_type": "code",
   "execution_count": 1,
   "id": "ee6e6d28",
   "metadata": {},
   "outputs": [],
   "source": [
    "library(ggplot2)"
   ]
  },
  {
   "cell_type": "code",
   "execution_count": 2,
   "id": "7aa98b97",
   "metadata": {},
   "outputs": [],
   "source": [
    "## In this example, the data is in a matrix called data.matrix\n",
    "## columns are individual samples (i.e. cells)\n",
    "## rows are measurements taken for all the samples (i.e. genes)\n",
    "\n",
    "\n",
    "data.matrix <- matrix(nrow=100, ncol=10)\n",
    "colnames(data.matrix) <- c(paste(\"wt\", 1:5, sep=\"\"), paste(\"ko\", 1:5, sep=\"\"))\n",
    "rownames(data.matrix) <- paste(\"gene\", 1:100, sep=\"\")\n",
    "\n",
    "for (i in 1:100) {\n",
    "  wt.values <- rpois(5, lambda=sample(x=10:1000, size=1))\n",
    "  ko.values <- rpois(5, lambda=sample(x=10:1000, size=1))\n",
    " \n",
    "  data.matrix[i,] <- c(wt.values, ko.values)\n",
    "}"
   ]
  },
  {
   "cell_type": "code",
   "execution_count": 3,
   "id": "ef08d33f",
   "metadata": {},
   "outputs": [
    {
     "data": {
      "text/html": [
       "<table class=\"dataframe\">\n",
       "<caption>A matrix: 6 × 10 of type int</caption>\n",
       "<thead>\n",
       "\t<tr><th></th><th scope=col>wt1</th><th scope=col>wt2</th><th scope=col>wt3</th><th scope=col>wt4</th><th scope=col>wt5</th><th scope=col>ko1</th><th scope=col>ko2</th><th scope=col>ko3</th><th scope=col>ko4</th><th scope=col>ko5</th></tr>\n",
       "</thead>\n",
       "<tbody>\n",
       "\t<tr><th scope=row>gene1</th><td> 68</td><td>  68</td><td>  76</td><td>  71</td><td> 81</td><td>411</td><td>404</td><td>414</td><td>416</td><td> 389</td></tr>\n",
       "\t<tr><th scope=row>gene2</th><td> 75</td><td>  63</td><td>  69</td><td>  70</td><td> 66</td><td>987</td><td>998</td><td>971</td><td>977</td><td>1028</td></tr>\n",
       "\t<tr><th scope=row>gene3</th><td>961</td><td>1009</td><td>1033</td><td> 965</td><td>982</td><td>180</td><td>147</td><td>159</td><td>160</td><td> 149</td></tr>\n",
       "\t<tr><th scope=row>gene4</th><td>664</td><td> 694</td><td> 686</td><td> 733</td><td>687</td><td>436</td><td>427</td><td>394</td><td>424</td><td> 425</td></tr>\n",
       "\t<tr><th scope=row>gene5</th><td>695</td><td> 708</td><td> 648</td><td> 756</td><td>681</td><td>804</td><td>766</td><td>801</td><td>765</td><td> 816</td></tr>\n",
       "\t<tr><th scope=row>gene6</th><td>968</td><td> 988</td><td>1013</td><td>1005</td><td>937</td><td>714</td><td>702</td><td>755</td><td>697</td><td> 755</td></tr>\n",
       "</tbody>\n",
       "</table>\n"
      ],
      "text/latex": [
       "A matrix: 6 × 10 of type int\n",
       "\\begin{tabular}{r|llllllllll}\n",
       "  & wt1 & wt2 & wt3 & wt4 & wt5 & ko1 & ko2 & ko3 & ko4 & ko5\\\\\n",
       "\\hline\n",
       "\tgene1 &  68 &   68 &   76 &   71 &  81 & 411 & 404 & 414 & 416 &  389\\\\\n",
       "\tgene2 &  75 &   63 &   69 &   70 &  66 & 987 & 998 & 971 & 977 & 1028\\\\\n",
       "\tgene3 & 961 & 1009 & 1033 &  965 & 982 & 180 & 147 & 159 & 160 &  149\\\\\n",
       "\tgene4 & 664 &  694 &  686 &  733 & 687 & 436 & 427 & 394 & 424 &  425\\\\\n",
       "\tgene5 & 695 &  708 &  648 &  756 & 681 & 804 & 766 & 801 & 765 &  816\\\\\n",
       "\tgene6 & 968 &  988 & 1013 & 1005 & 937 & 714 & 702 & 755 & 697 &  755\\\\\n",
       "\\end{tabular}\n"
      ],
      "text/markdown": [
       "\n",
       "A matrix: 6 × 10 of type int\n",
       "\n",
       "| <!--/--> | wt1 | wt2 | wt3 | wt4 | wt5 | ko1 | ko2 | ko3 | ko4 | ko5 |\n",
       "|---|---|---|---|---|---|---|---|---|---|---|\n",
       "| gene1 |  68 |   68 |   76 |   71 |  81 | 411 | 404 | 414 | 416 |  389 |\n",
       "| gene2 |  75 |   63 |   69 |   70 |  66 | 987 | 998 | 971 | 977 | 1028 |\n",
       "| gene3 | 961 | 1009 | 1033 |  965 | 982 | 180 | 147 | 159 | 160 |  149 |\n",
       "| gene4 | 664 |  694 |  686 |  733 | 687 | 436 | 427 | 394 | 424 |  425 |\n",
       "| gene5 | 695 |  708 |  648 |  756 | 681 | 804 | 766 | 801 | 765 |  816 |\n",
       "| gene6 | 968 |  988 | 1013 | 1005 | 937 | 714 | 702 | 755 | 697 |  755 |\n",
       "\n"
      ],
      "text/plain": [
       "      wt1 wt2  wt3  wt4  wt5 ko1 ko2 ko3 ko4 ko5 \n",
       "gene1  68   68   76   71  81 411 404 414 416  389\n",
       "gene2  75   63   69   70  66 987 998 971 977 1028\n",
       "gene3 961 1009 1033  965 982 180 147 159 160  149\n",
       "gene4 664  694  686  733 687 436 427 394 424  425\n",
       "gene5 695  708  648  756 681 804 766 801 765  816\n",
       "gene6 968  988 1013 1005 937 714 702 755 697  755"
      ]
     },
     "metadata": {},
     "output_type": "display_data"
    }
   ],
   "source": [
    "head(data.matrix)"
   ]
  },
  {
   "cell_type": "code",
   "execution_count": 4,
   "id": "fcbcfe84",
   "metadata": {},
   "outputs": [
    {
     "data": {
      "text/html": [
       "<style>\n",
       ".list-inline {list-style: none; margin:0; padding: 0}\n",
       ".list-inline>li {display: inline-block}\n",
       ".list-inline>li:not(:last-child)::after {content: \"\\00b7\"; padding: 0 .5ex}\n",
       "</style>\n",
       "<ol class=list-inline><li>100</li><li>10</li></ol>\n"
      ],
      "text/latex": [
       "\\begin{enumerate*}\n",
       "\\item 100\n",
       "\\item 10\n",
       "\\end{enumerate*}\n"
      ],
      "text/markdown": [
       "1. 100\n",
       "2. 10\n",
       "\n",
       "\n"
      ],
      "text/plain": [
       "[1] 100  10"
      ]
     },
     "metadata": {},
     "output_type": "display_data"
    }
   ],
   "source": [
    "dim(data.matrix)"
   ]
  },
  {
   "cell_type": "code",
   "execution_count": 5,
   "id": "89a2ca04",
   "metadata": {},
   "outputs": [],
   "source": [
    "## t() transpose of data.matrix is done because prcomp() assumes that samples are rows and dimensions are columns\n",
    "\n",
    "pca <- prcomp(t(data.matrix), scale=TRUE) "
   ]
  },
  {
   "cell_type": "code",
   "execution_count": 6,
   "id": "483b8134",
   "metadata": {},
   "outputs": [
    {
     "data": {
      "image/png": "[encoded data removed]",
      "text/plain": [
       "plot without title"
      ]
     },
     "metadata": {
      "image/png": {
       "height": 420,
       "width": 420
      }
     },
     "output_type": "display_data"
    }
   ],
   "source": [
    "## plot pc1 and pc2\n",
    "\n",
    "plot(pca$x[,1], pca$x[,2])"
   ]
  },
  {
   "cell_type": "code",
   "execution_count": 7,
   "id": "a7d83397",
   "metadata": {},
   "outputs": [
    {
     "data": {
      "image/png": "[encoded data removed]",
      "text/plain": [
       "Plot with title \"Scree Plot\""
      ]
     },
     "metadata": {
      "image/png": {
       "height": 420,
       "width": 420
      }
     },
     "output_type": "display_data"
    }
   ],
   "source": [
    "## make a scree plot\n",
    "\n",
    "pca.var <- pca$sdev^2\n",
    "pca.var.per <- round(pca.var/sum(pca.var)*100, 1)\n",
    " \n",
    "barplot(pca.var.per, main=\"Scree Plot\", xlab=\"Principal Component\", ylab=\"Percent Variation\") "
   ]
  },
  {
   "cell_type": "code",
   "execution_count": 8,
   "id": "9ab17ca6",
   "metadata": {},
   "outputs": [
    {
     "data": {
      "text/html": [
       "<table class=\"dataframe\">\n",
       "<caption>A data.frame: 10 × 3</caption>\n",
       "<thead>\n",
       "\t<tr><th></th><th scope=col>Sample</th><th scope=col>X</th><th scope=col>Y</th></tr>\n",
       "\t<tr><th></th><th scope=col>&lt;chr&gt;</th><th scope=col>&lt;dbl&gt;</th><th scope=col>&lt;dbl&gt;</th></tr>\n",
       "</thead>\n",
       "<tbody>\n",
       "\t<tr><th scope=row>wt1</th><td>wt1</td><td>-9.001425</td><td> 0.59158724</td></tr>\n",
       "\t<tr><th scope=row>wt2</th><td>wt2</td><td>-9.223056</td><td> 1.10413318</td></tr>\n",
       "\t<tr><th scope=row>wt3</th><td>wt3</td><td>-9.167645</td><td> 1.00311749</td></tr>\n",
       "\t<tr><th scope=row>wt4</th><td>wt4</td><td>-9.360262</td><td>-0.81593111</td></tr>\n",
       "\t<tr><th scope=row>wt5</th><td>wt5</td><td>-8.847315</td><td>-1.93050515</td></tr>\n",
       "\t<tr><th scope=row>ko1</th><td>ko1</td><td> 9.076899</td><td>-0.80553779</td></tr>\n",
       "\t<tr><th scope=row>ko2</th><td>ko2</td><td> 8.988993</td><td> 0.01270401</td></tr>\n",
       "\t<tr><th scope=row>ko3</th><td>ko3</td><td> 9.088680</td><td>-1.99017823</td></tr>\n",
       "\t<tr><th scope=row>ko4</th><td>ko4</td><td> 9.519533</td><td> 0.01432061</td></tr>\n",
       "\t<tr><th scope=row>ko5</th><td>ko5</td><td> 8.925600</td><td> 2.81628975</td></tr>\n",
       "</tbody>\n",
       "</table>\n"
      ],
      "text/latex": [
       "A data.frame: 10 × 3\n",
       "\\begin{tabular}{r|lll}\n",
       "  & Sample & X & Y\\\\\n",
       "  & <chr> & <dbl> & <dbl>\\\\\n",
       "\\hline\n",
       "\twt1 & wt1 & -9.001425 &  0.59158724\\\\\n",
       "\twt2 & wt2 & -9.223056 &  1.10413318\\\\\n",
       "\twt3 & wt3 & -9.167645 &  1.00311749\\\\\n",
       "\twt4 & wt4 & -9.360262 & -0.81593111\\\\\n",
       "\twt5 & wt5 & -8.847315 & -1.93050515\\\\\n",
       "\tko1 & ko1 &  9.076899 & -0.80553779\\\\\n",
       "\tko2 & ko2 &  8.988993 &  0.01270401\\\\\n",
       "\tko3 & ko3 &  9.088680 & -1.99017823\\\\\n",
       "\tko4 & ko4 &  9.519533 &  0.01432061\\\\\n",
       "\tko5 & ko5 &  8.925600 &  2.81628975\\\\\n",
       "\\end{tabular}\n"
      ],
      "text/markdown": [
       "\n",
       "A data.frame: 10 × 3\n",
       "\n",
       "| <!--/--> | Sample &lt;chr&gt; | X &lt;dbl&gt; | Y &lt;dbl&gt; |\n",
       "|---|---|---|---|\n",
       "| wt1 | wt1 | -9.001425 |  0.59158724 |\n",
       "| wt2 | wt2 | -9.223056 |  1.10413318 |\n",
       "| wt3 | wt3 | -9.167645 |  1.00311749 |\n",
       "| wt4 | wt4 | -9.360262 | -0.81593111 |\n",
       "| wt5 | wt5 | -8.847315 | -1.93050515 |\n",
       "| ko1 | ko1 |  9.076899 | -0.80553779 |\n",
       "| ko2 | ko2 |  8.988993 |  0.01270401 |\n",
       "| ko3 | ko3 |  9.088680 | -1.99017823 |\n",
       "| ko4 | ko4 |  9.519533 |  0.01432061 |\n",
       "| ko5 | ko5 |  8.925600 |  2.81628975 |\n",
       "\n"
      ],
      "text/plain": [
       "    Sample X         Y          \n",
       "wt1 wt1    -9.001425  0.59158724\n",
       "wt2 wt2    -9.223056  1.10413318\n",
       "wt3 wt3    -9.167645  1.00311749\n",
       "wt4 wt4    -9.360262 -0.81593111\n",
       "wt5 wt5    -8.847315 -1.93050515\n",
       "ko1 ko1     9.076899 -0.80553779\n",
       "ko2 ko2     8.988993  0.01270401\n",
       "ko3 ko3     9.088680 -1.99017823\n",
       "ko4 ko4     9.519533  0.01432061\n",
       "ko5 ko5     8.925600  2.81628975"
      ]
     },
     "metadata": {},
     "output_type": "display_data"
    }
   ],
   "source": [
    "## now make a fancy looking plot that shows the PCs and the variation:\n",
    "\n",
    "pca.data <- data.frame(Sample=rownames(pca$x), X=pca$x[,1], Y=pca$x[,2])\n",
    "pca.data"
   ]
  },
  {
   "cell_type": "code",
   "execution_count": 9,
   "id": "ded1fa5f",
   "metadata": {},
   "outputs": [
    {
     "data": {
      "image/png": "[encoded data removed]",
      "text/plain": [
       "plot without title"
      ]
     },
     "metadata": {
      "image/png": {
       "height": 420,
       "width": 420
      }
     },
     "output_type": "display_data"
    }
   ],
   "source": [
    "ggplot(data=pca.data, aes(x=X, y=Y, label=Sample)) +\n",
    "  geom_text() +\n",
    "  xlab(paste(\"PC1 - \", pca.var.per[1], \"%\", sep=\"\")) +\n",
    "  ylab(paste(\"PC2 - \", pca.var.per[2], \"%\", sep=\"\")) +\n",
    "  theme_bw() +\n",
    "  ggtitle(\"PCA Graph\")"
   ]
  },
  {
   "cell_type": "code",
   "execution_count": 10,
   "id": "42e71037",
   "metadata": {},
   "outputs": [
    {
     "data": {
      "text/html": [
       "<style>\n",
       ".list-inline {list-style: none; margin:0; padding: 0}\n",
       ".list-inline>li {display: inline-block}\n",
       ".list-inline>li:not(:last-child)::after {content: \"\\00b7\"; padding: 0 .5ex}\n",
       "</style>\n",
       "<ol class=list-inline><li>'gene58'</li><li>'gene1'</li><li>'gene76'</li><li>'gene19'</li><li>'gene68'</li><li>'gene16'</li><li>'gene23'</li><li>'gene2'</li><li>'gene38'</li><li>'gene63'</li></ol>\n"
      ],
      "text/latex": [
       "\\begin{enumerate*}\n",
       "\\item 'gene58'\n",
       "\\item 'gene1'\n",
       "\\item 'gene76'\n",
       "\\item 'gene19'\n",
       "\\item 'gene68'\n",
       "\\item 'gene16'\n",
       "\\item 'gene23'\n",
       "\\item 'gene2'\n",
       "\\item 'gene38'\n",
       "\\item 'gene63'\n",
       "\\end{enumerate*}\n"
      ],
      "text/markdown": [
       "1. 'gene58'\n",
       "2. 'gene1'\n",
       "3. 'gene76'\n",
       "4. 'gene19'\n",
       "5. 'gene68'\n",
       "6. 'gene16'\n",
       "7. 'gene23'\n",
       "8. 'gene2'\n",
       "9. 'gene38'\n",
       "10. 'gene63'\n",
       "\n",
       "\n"
      ],
      "text/plain": [
       " [1] \"gene58\" \"gene1\"  \"gene76\" \"gene19\" \"gene68\" \"gene16\" \"gene23\" \"gene2\" \n",
       " [9] \"gene38\" \"gene63\""
      ]
     },
     "metadata": {},
     "output_type": "display_data"
    }
   ],
   "source": [
    "## get the name of the top 10 measurements (genes) that contribute most to pc1.\n",
    "\n",
    "loading_scores <- pca$rotation[,1]\n",
    "gene_scores <- abs(loading_scores) ## get the magnitudes\n",
    "gene_score_ranked <- sort(gene_scores, decreasing=TRUE)\n",
    "top_10_genes <- names(gene_score_ranked[1:10])\n",
    " \n",
    "top_10_genes ## show the names of the top 10 genes"
   ]
  },
  {
   "cell_type": "code",
   "execution_count": 11,
   "id": "5cfb1871",
   "metadata": {},
   "outputs": [
    {
     "data": {
      "text/html": [
       "<style>\n",
       ".dl-inline {width: auto; margin:0; padding: 0}\n",
       ".dl-inline>dt, .dl-inline>dd {float: none; width: auto; display: inline-block}\n",
       ".dl-inline>dt::after {content: \":\\0020\"; padding-right: .5ex}\n",
       ".dl-inline>dt:not(:first-of-type) {padding-left: .5ex}\n",
       "</style><dl class=dl-inline><dt>gene58</dt><dd>-0.10395891936533</dd><dt>gene1</dt><dd>0.103928244071475</dd><dt>gene76</dt><dd>-0.103924216713637</dd><dt>gene19</dt><dd>-0.103919739270906</dd><dt>gene68</dt><dd>-0.103905165567946</dd><dt>gene16</dt><dd>0.103897490841856</dd><dt>gene23</dt><dd>0.103897173929181</dd><dt>gene2</dt><dd>0.103893482173158</dd><dt>gene38</dt><dd>0.103891116195312</dd><dt>gene63</dt><dd>-0.103884519415563</dd></dl>\n"
      ],
      "text/latex": [
       "\\begin{description*}\n",
       "\\item[gene58] -0.10395891936533\n",
       "\\item[gene1] 0.103928244071475\n",
       "\\item[gene76] -0.103924216713637\n",
       "\\item[gene19] -0.103919739270906\n",
       "\\item[gene68] -0.103905165567946\n",
       "\\item[gene16] 0.103897490841856\n",
       "\\item[gene23] 0.103897173929181\n",
       "\\item[gene2] 0.103893482173158\n",
       "\\item[gene38] 0.103891116195312\n",
       "\\item[gene63] -0.103884519415563\n",
       "\\end{description*}\n"
      ],
      "text/markdown": [
       "gene58\n",
       ":   -0.10395891936533gene1\n",
       ":   0.103928244071475gene76\n",
       ":   -0.103924216713637gene19\n",
       ":   -0.103919739270906gene68\n",
       ":   -0.103905165567946gene16\n",
       ":   0.103897490841856gene23\n",
       ":   0.103897173929181gene2\n",
       ":   0.103893482173158gene38\n",
       ":   0.103891116195312gene63\n",
       ":   -0.103884519415563\n",
       "\n"
      ],
      "text/plain": [
       "    gene58      gene1     gene76     gene19     gene68     gene16     gene23 \n",
       "-0.1039589  0.1039282 -0.1039242 -0.1039197 -0.1039052  0.1038975  0.1038972 \n",
       "     gene2     gene38     gene63 \n",
       " 0.1038935  0.1038911 -0.1038845 "
      ]
     },
     "metadata": {},
     "output_type": "display_data"
    }
   ],
   "source": [
    "pca$rotation[top_10_genes,1] ## show the scores (and +/- sign)"
   ]
  },
  {
   "cell_type": "code",
   "execution_count": 12,
   "id": "f74c65af",
   "metadata": {},
   "outputs": [],
   "source": [
    "## NOTE: Everything that follow is just bonus stuff.\n",
    "## It simply demonstrates how to get the same\n",
    "## results using \"svd()\" (Singular Value Decomposition) or using \"eigen()\" (Eigen Decomposition).\n",
    "\n",
    "## Now let's do the same thing with svd()\n",
    "\n",
    "## svd() returns three things\n",
    "## v = the \"rotation\" that prcomp() returns, this is a matrix of eigenvectors\n",
    "##     in other words, a matrix of loading scores\n",
    "## u = this is similar to the \"x\" that prcomp() returns. In other words,\n",
    "##     sum(the rotation * the original data), but compressed to the unit vector\n",
    "##     You can spread it out by multiplying by \"d\"\n",
    "## d = this is similar to the \"sdev\" value that prcomp() returns (and thus\n",
    "##     related to the eigen values), but not\n",
    "##     scaled by sample size in an unbiased way (ie. 1/(n-1)).\n",
    "##     For prcomp(), sdev = sqrt(var) = sqrt(ss(fit)/(n-1))\n",
    "##     For svd(), d = sqrt(ss(fit))"
   ]
  },
  {
   "cell_type": "code",
   "execution_count": 13,
   "id": "32ed0cc2",
   "metadata": {},
   "outputs": [],
   "source": [
    "svd.stuff <- svd(scale(t(data.matrix), center=TRUE))"
   ]
  },
  {
   "cell_type": "code",
   "execution_count": 14,
   "id": "85b62ebd",
   "metadata": {},
   "outputs": [
    {
     "data": {
      "text/html": [
       "<table class=\"dataframe\">\n",
       "<caption>A data.frame: 10 × 3</caption>\n",
       "<thead>\n",
       "\t<tr><th scope=col>Sample</th><th scope=col>X</th><th scope=col>Y</th></tr>\n",
       "\t<tr><th scope=col>&lt;chr&gt;</th><th scope=col>&lt;dbl&gt;</th><th scope=col>&lt;dbl&gt;</th></tr>\n",
       "</thead>\n",
       "<tbody>\n",
       "\t<tr><td>wt1</td><td>-9.001425</td><td> 0.59158724</td></tr>\n",
       "\t<tr><td>wt2</td><td>-9.223056</td><td> 1.10413318</td></tr>\n",
       "\t<tr><td>wt3</td><td>-9.167645</td><td> 1.00311749</td></tr>\n",
       "\t<tr><td>wt4</td><td>-9.360262</td><td>-0.81593111</td></tr>\n",
       "\t<tr><td>wt5</td><td>-8.847315</td><td>-1.93050515</td></tr>\n",
       "\t<tr><td>ko1</td><td> 9.076899</td><td>-0.80553779</td></tr>\n",
       "\t<tr><td>ko2</td><td> 8.988993</td><td> 0.01270401</td></tr>\n",
       "\t<tr><td>ko3</td><td> 9.088680</td><td>-1.99017823</td></tr>\n",
       "\t<tr><td>ko4</td><td> 9.519533</td><td> 0.01432061</td></tr>\n",
       "\t<tr><td>ko5</td><td> 8.925600</td><td> 2.81628975</td></tr>\n",
       "</tbody>\n",
       "</table>\n"
      ],
      "text/latex": [
       "A data.frame: 10 × 3\n",
       "\\begin{tabular}{lll}\n",
       " Sample & X & Y\\\\\n",
       " <chr> & <dbl> & <dbl>\\\\\n",
       "\\hline\n",
       "\t wt1 & -9.001425 &  0.59158724\\\\\n",
       "\t wt2 & -9.223056 &  1.10413318\\\\\n",
       "\t wt3 & -9.167645 &  1.00311749\\\\\n",
       "\t wt4 & -9.360262 & -0.81593111\\\\\n",
       "\t wt5 & -8.847315 & -1.93050515\\\\\n",
       "\t ko1 &  9.076899 & -0.80553779\\\\\n",
       "\t ko2 &  8.988993 &  0.01270401\\\\\n",
       "\t ko3 &  9.088680 & -1.99017823\\\\\n",
       "\t ko4 &  9.519533 &  0.01432061\\\\\n",
       "\t ko5 &  8.925600 &  2.81628975\\\\\n",
       "\\end{tabular}\n"
      ],
      "text/markdown": [
       "\n",
       "A data.frame: 10 × 3\n",
       "\n",
       "| Sample &lt;chr&gt; | X &lt;dbl&gt; | Y &lt;dbl&gt; |\n",
       "|---|---|---|\n",
       "| wt1 | -9.001425 |  0.59158724 |\n",
       "| wt2 | -9.223056 |  1.10413318 |\n",
       "| wt3 | -9.167645 |  1.00311749 |\n",
       "| wt4 | -9.360262 | -0.81593111 |\n",
       "| wt5 | -8.847315 | -1.93050515 |\n",
       "| ko1 |  9.076899 | -0.80553779 |\n",
       "| ko2 |  8.988993 |  0.01270401 |\n",
       "| ko3 |  9.088680 | -1.99017823 |\n",
       "| ko4 |  9.519533 |  0.01432061 |\n",
       "| ko5 |  8.925600 |  2.81628975 |\n",
       "\n"
      ],
      "text/plain": [
       "   Sample X         Y          \n",
       "1  wt1    -9.001425  0.59158724\n",
       "2  wt2    -9.223056  1.10413318\n",
       "3  wt3    -9.167645  1.00311749\n",
       "4  wt4    -9.360262 -0.81593111\n",
       "5  wt5    -8.847315 -1.93050515\n",
       "6  ko1     9.076899 -0.80553779\n",
       "7  ko2     8.988993  0.01270401\n",
       "8  ko3     9.088680 -1.99017823\n",
       "9  ko4     9.519533  0.01432061\n",
       "10 ko5     8.925600  2.81628975"
      ]
     },
     "metadata": {},
     "output_type": "display_data"
    }
   ],
   "source": [
    "## calculate the PCs\n",
    "\n",
    "svd.data <- data.frame(Sample=colnames(data.matrix),\n",
    "  X=(svd.stuff$u[,1] * svd.stuff$d[1]),\n",
    "  Y=(svd.stuff$u[,2] * svd.stuff$d[2]))\n",
    "svd.data"
   ]
  },
  {
   "cell_type": "code",
   "execution_count": 15,
   "id": "94d4f102",
   "metadata": {},
   "outputs": [
    {
     "data": {
      "text/html": [
       "<table class=\"dataframe\">\n",
       "<caption>A matrix: 10 × 2 of type dbl</caption>\n",
       "<tbody>\n",
       "\t<tr><th scope=row>wt1</th><td>-9.001425</td><td> 0.59158724</td></tr>\n",
       "\t<tr><th scope=row>wt2</th><td>-9.223056</td><td> 1.10413318</td></tr>\n",
       "\t<tr><th scope=row>wt3</th><td>-9.167645</td><td> 1.00311749</td></tr>\n",
       "\t<tr><th scope=row>wt4</th><td>-9.360262</td><td>-0.81593111</td></tr>\n",
       "\t<tr><th scope=row>wt5</th><td>-8.847315</td><td>-1.93050515</td></tr>\n",
       "\t<tr><th scope=row>ko1</th><td> 9.076899</td><td>-0.80553779</td></tr>\n",
       "\t<tr><th scope=row>ko2</th><td> 8.988993</td><td> 0.01270401</td></tr>\n",
       "\t<tr><th scope=row>ko3</th><td> 9.088680</td><td>-1.99017823</td></tr>\n",
       "\t<tr><th scope=row>ko4</th><td> 9.519533</td><td> 0.01432061</td></tr>\n",
       "\t<tr><th scope=row>ko5</th><td> 8.925600</td><td> 2.81628975</td></tr>\n",
       "</tbody>\n",
       "</table>\n"
      ],
      "text/latex": [
       "A matrix: 10 × 2 of type dbl\n",
       "\\begin{tabular}{r|ll}\n",
       "\twt1 & -9.001425 &  0.59158724\\\\\n",
       "\twt2 & -9.223056 &  1.10413318\\\\\n",
       "\twt3 & -9.167645 &  1.00311749\\\\\n",
       "\twt4 & -9.360262 & -0.81593111\\\\\n",
       "\twt5 & -8.847315 & -1.93050515\\\\\n",
       "\tko1 &  9.076899 & -0.80553779\\\\\n",
       "\tko2 &  8.988993 &  0.01270401\\\\\n",
       "\tko3 &  9.088680 & -1.99017823\\\\\n",
       "\tko4 &  9.519533 &  0.01432061\\\\\n",
       "\tko5 &  8.925600 &  2.81628975\\\\\n",
       "\\end{tabular}\n"
      ],
      "text/markdown": [
       "\n",
       "A matrix: 10 × 2 of type dbl\n",
       "\n",
       "| wt1 | -9.001425 |  0.59158724 |\n",
       "| wt2 | -9.223056 |  1.10413318 |\n",
       "| wt3 | -9.167645 |  1.00311749 |\n",
       "| wt4 | -9.360262 | -0.81593111 |\n",
       "| wt5 | -8.847315 | -1.93050515 |\n",
       "| ko1 |  9.076899 | -0.80553779 |\n",
       "| ko2 |  8.988993 |  0.01270401 |\n",
       "| ko3 |  9.088680 | -1.99017823 |\n",
       "| ko4 |  9.519533 |  0.01432061 |\n",
       "| ko5 |  8.925600 |  2.81628975 |\n",
       "\n"
      ],
      "text/plain": [
       "    [,1]      [,2]       \n",
       "wt1 -9.001425  0.59158724\n",
       "wt2 -9.223056  1.10413318\n",
       "wt3 -9.167645  1.00311749\n",
       "wt4 -9.360262 -0.81593111\n",
       "wt5 -8.847315 -1.93050515\n",
       "ko1  9.076899 -0.80553779\n",
       "ko2  8.988993  0.01270401\n",
       "ko3  9.088680 -1.99017823\n",
       "ko4  9.519533  0.01432061\n",
       "ko5  8.925600  2.81628975"
      ]
     },
     "metadata": {},
     "output_type": "display_data"
    }
   ],
   "source": [
    "## alternatively, we could compute the PCs with the eigen vectors and the original data\n",
    "\n",
    "svd.pcs <- t(t(svd.stuff$v) %*% t(scale(t(data.matrix), center=TRUE)))\n",
    "svd.pcs[,1:2] ## the first to principal components"
   ]
  },
  {
   "cell_type": "code",
   "execution_count": 16,
   "id": "443782cb",
   "metadata": {},
   "outputs": [],
   "source": [
    "svd.df <- ncol(data.matrix) - 1\n",
    "svd.var <- svd.stuff$d^2 / svd.df\n",
    "svd.var.per <- round(svd.var/sum(svd.var)*100, 1)"
   ]
  },
  {
   "cell_type": "code",
   "execution_count": 17,
   "id": "ff10b4a8",
   "metadata": {},
   "outputs": [
    {
     "data": {
      "image/png": "[encoded data removed]",
      "text/plain": [
       "plot without title"
      ]
     },
     "metadata": {
      "image/png": {
       "height": 420,
       "width": 420
      }
     },
     "output_type": "display_data"
    }
   ],
   "source": [
    "ggplot(data=svd.data, aes(x=X, y=Y, label=Sample)) +\n",
    "  geom_text() +\n",
    "  xlab(paste(\"PC1 - \", svd.var.per[1], \"%\", sep=\"\")) +\n",
    "  ylab(paste(\"PC2 - \", svd.var.per[2], \"%\", sep=\"\")) +\n",
    "  theme_bw() +\n",
    "  ggtitle(\"svd(scale(t(data.matrix), center=TRUE)\")"
   ]
  },
  {
   "cell_type": "code",
   "execution_count": 18,
   "id": "fa5b3677",
   "metadata": {},
   "outputs": [
    {
     "data": {
      "text/html": [
       "<style>\n",
       ".list-inline {list-style: none; margin:0; padding: 0}\n",
       ".list-inline>li {display: inline-block}\n",
       ".list-inline>li:not(:last-child)::after {content: \"\\00b7\"; padding: 0 .5ex}\n",
       "</style>\n",
       "<ol class=list-inline><li>100</li><li>100</li></ol>\n"
      ],
      "text/latex": [
       "\\begin{enumerate*}\n",
       "\\item 100\n",
       "\\item 100\n",
       "\\end{enumerate*}\n"
      ],
      "text/markdown": [
       "1. 100\n",
       "2. 100\n",
       "\n",
       "\n"
      ],
      "text/plain": [
       "[1] 100 100"
      ]
     },
     "metadata": {},
     "output_type": "display_data"
    }
   ],
   "source": [
    "## Now let's do the same thing with eigen()\n",
    "\n",
    "## eigen() returns two things...\n",
    "## vectors = eigen vectors (vectors of loading scores)\n",
    "##           NOTE: pcs = sum(loading scores * values for sample)\n",
    "## values = eigen values\n",
    "\n",
    "cov.mat <- cov(scale(t(data.matrix), center=TRUE))\n",
    "dim(cov.mat)"
   ]
  },
  {
   "cell_type": "code",
   "execution_count": 19,
   "id": "57d6b05b",
   "metadata": {},
   "outputs": [
    {
     "data": {
      "text/html": [
       "<style>\n",
       ".list-inline {list-style: none; margin:0; padding: 0}\n",
       ".list-inline>li {display: inline-block}\n",
       ".list-inline>li:not(:last-child)::after {content: \"\\00b7\"; padding: 0 .5ex}\n",
       "</style>\n",
       "<ol class=list-inline><li>100</li><li>100</li></ol>\n"
      ],
      "text/latex": [
       "\\begin{enumerate*}\n",
       "\\item 100\n",
       "\\item 100\n",
       "\\end{enumerate*}\n"
      ],
      "text/markdown": [
       "1. 100\n",
       "2. 100\n",
       "\n",
       "\n"
      ],
      "text/plain": [
       "[1] 100 100"
      ]
     },
     "metadata": {},
     "output_type": "display_data"
    },
    {
     "data": {
      "text/html": [
       "<table class=\"dataframe\">\n",
       "<caption>A matrix: 6 × 2 of type dbl</caption>\n",
       "<tbody>\n",
       "\t<tr><td>-0.1039282</td><td>-0.0206918076</td></tr>\n",
       "\t<tr><td>-0.1038935</td><td> 0.0203023444</td></tr>\n",
       "\t<tr><td> 0.1038446</td><td>-0.0002305703</td></tr>\n",
       "\t<tr><td> 0.1031132</td><td>-0.0014324359</td></tr>\n",
       "\t<tr><td>-0.0874727</td><td>-0.0103230168</td></tr>\n",
       "\t<tr><td> 0.1021676</td><td> 0.0437383370</td></tr>\n",
       "</tbody>\n",
       "</table>\n"
      ],
      "text/latex": [
       "A matrix: 6 × 2 of type dbl\n",
       "\\begin{tabular}{ll}\n",
       "\t -0.1039282 & -0.0206918076\\\\\n",
       "\t -0.1038935 &  0.0203023444\\\\\n",
       "\t  0.1038446 & -0.0002305703\\\\\n",
       "\t  0.1031132 & -0.0014324359\\\\\n",
       "\t -0.0874727 & -0.0103230168\\\\\n",
       "\t  0.1021676 &  0.0437383370\\\\\n",
       "\\end{tabular}\n"
      ],
      "text/markdown": [
       "\n",
       "A matrix: 6 × 2 of type dbl\n",
       "\n",
       "| -0.1039282 | -0.0206918076 |\n",
       "| -0.1038935 |  0.0203023444 |\n",
       "|  0.1038446 | -0.0002305703 |\n",
       "|  0.1031132 | -0.0014324359 |\n",
       "| -0.0874727 | -0.0103230168 |\n",
       "|  0.1021676 |  0.0437383370 |\n",
       "\n"
      ],
      "text/plain": [
       "     [,1]       [,2]         \n",
       "[1,] -0.1039282 -0.0206918076\n",
       "[2,] -0.1038935  0.0203023444\n",
       "[3,]  0.1038446 -0.0002305703\n",
       "[4,]  0.1031132 -0.0014324359\n",
       "[5,] -0.0874727 -0.0103230168\n",
       "[6,]  0.1021676  0.0437383370"
      ]
     },
     "metadata": {},
     "output_type": "display_data"
    }
   ],
   "source": [
    "## since the covariance matrix is symmetric, we can tell eigen() to just work on the lower triangle with \"symmetric=TRUE\"\n",
    "\n",
    "eigen.stuff <- eigen(cov.mat, symmetric=TRUE)\n",
    "dim(eigen.stuff$vectors)\n",
    "head(eigen.stuff$vectors[,1:2])"
   ]
  },
  {
   "cell_type": "code",
   "execution_count": 20,
   "id": "abdace35",
   "metadata": {},
   "outputs": [
    {
     "data": {
      "text/html": [
       "<table class=\"dataframe\">\n",
       "<caption>A matrix: 10 × 2 of type dbl</caption>\n",
       "<tbody>\n",
       "\t<tr><th scope=row>wt1</th><td> 9.001425</td><td> 0.59158724</td></tr>\n",
       "\t<tr><th scope=row>wt2</th><td> 9.223056</td><td> 1.10413318</td></tr>\n",
       "\t<tr><th scope=row>wt3</th><td> 9.167645</td><td> 1.00311749</td></tr>\n",
       "\t<tr><th scope=row>wt4</th><td> 9.360262</td><td>-0.81593111</td></tr>\n",
       "\t<tr><th scope=row>wt5</th><td> 8.847315</td><td>-1.93050515</td></tr>\n",
       "\t<tr><th scope=row>ko1</th><td>-9.076899</td><td>-0.80553779</td></tr>\n",
       "\t<tr><th scope=row>ko2</th><td>-8.988993</td><td> 0.01270401</td></tr>\n",
       "\t<tr><th scope=row>ko3</th><td>-9.088680</td><td>-1.99017823</td></tr>\n",
       "\t<tr><th scope=row>ko4</th><td>-9.519533</td><td> 0.01432061</td></tr>\n",
       "\t<tr><th scope=row>ko5</th><td>-8.925600</td><td> 2.81628975</td></tr>\n",
       "</tbody>\n",
       "</table>\n"
      ],
      "text/latex": [
       "A matrix: 10 × 2 of type dbl\n",
       "\\begin{tabular}{r|ll}\n",
       "\twt1 &  9.001425 &  0.59158724\\\\\n",
       "\twt2 &  9.223056 &  1.10413318\\\\\n",
       "\twt3 &  9.167645 &  1.00311749\\\\\n",
       "\twt4 &  9.360262 & -0.81593111\\\\\n",
       "\twt5 &  8.847315 & -1.93050515\\\\\n",
       "\tko1 & -9.076899 & -0.80553779\\\\\n",
       "\tko2 & -8.988993 &  0.01270401\\\\\n",
       "\tko3 & -9.088680 & -1.99017823\\\\\n",
       "\tko4 & -9.519533 &  0.01432061\\\\\n",
       "\tko5 & -8.925600 &  2.81628975\\\\\n",
       "\\end{tabular}\n"
      ],
      "text/markdown": [
       "\n",
       "A matrix: 10 × 2 of type dbl\n",
       "\n",
       "| wt1 |  9.001425 |  0.59158724 |\n",
       "| wt2 |  9.223056 |  1.10413318 |\n",
       "| wt3 |  9.167645 |  1.00311749 |\n",
       "| wt4 |  9.360262 | -0.81593111 |\n",
       "| wt5 |  8.847315 | -1.93050515 |\n",
       "| ko1 | -9.076899 | -0.80553779 |\n",
       "| ko2 | -8.988993 |  0.01270401 |\n",
       "| ko3 | -9.088680 | -1.99017823 |\n",
       "| ko4 | -9.519533 |  0.01432061 |\n",
       "| ko5 | -8.925600 |  2.81628975 |\n",
       "\n"
      ],
      "text/plain": [
       "    [,1]      [,2]       \n",
       "wt1  9.001425  0.59158724\n",
       "wt2  9.223056  1.10413318\n",
       "wt3  9.167645  1.00311749\n",
       "wt4  9.360262 -0.81593111\n",
       "wt5  8.847315 -1.93050515\n",
       "ko1 -9.076899 -0.80553779\n",
       "ko2 -8.988993  0.01270401\n",
       "ko3 -9.088680 -1.99017823\n",
       "ko4 -9.519533  0.01432061\n",
       "ko5 -8.925600  2.81628975"
      ]
     },
     "metadata": {},
     "output_type": "display_data"
    }
   ],
   "source": [
    "eigen.pcs <- t(t(eigen.stuff$vectors) %*% t(scale(t(data.matrix), center=TRUE)))\n",
    "eigen.pcs[,1:2]"
   ]
  },
  {
   "cell_type": "code",
   "execution_count": 21,
   "id": "f5858808",
   "metadata": {},
   "outputs": [
    {
     "data": {
      "text/html": [
       "<table class=\"dataframe\">\n",
       "<caption>A data.frame: 10 × 3</caption>\n",
       "<thead>\n",
       "\t<tr><th></th><th scope=col>Sample</th><th scope=col>X</th><th scope=col>Y</th></tr>\n",
       "\t<tr><th></th><th scope=col>&lt;chr&gt;</th><th scope=col>&lt;dbl&gt;</th><th scope=col>&lt;dbl&gt;</th></tr>\n",
       "</thead>\n",
       "<tbody>\n",
       "\t<tr><th scope=row>wt1</th><td>wt1</td><td>-9.001425</td><td> 0.59158724</td></tr>\n",
       "\t<tr><th scope=row>wt2</th><td>wt2</td><td>-9.223056</td><td> 1.10413318</td></tr>\n",
       "\t<tr><th scope=row>wt3</th><td>wt3</td><td>-9.167645</td><td> 1.00311749</td></tr>\n",
       "\t<tr><th scope=row>wt4</th><td>wt4</td><td>-9.360262</td><td>-0.81593111</td></tr>\n",
       "\t<tr><th scope=row>wt5</th><td>wt5</td><td>-8.847315</td><td>-1.93050515</td></tr>\n",
       "\t<tr><th scope=row>ko1</th><td>ko1</td><td> 9.076899</td><td>-0.80553779</td></tr>\n",
       "\t<tr><th scope=row>ko2</th><td>ko2</td><td> 8.988993</td><td> 0.01270401</td></tr>\n",
       "\t<tr><th scope=row>ko3</th><td>ko3</td><td> 9.088680</td><td>-1.99017823</td></tr>\n",
       "\t<tr><th scope=row>ko4</th><td>ko4</td><td> 9.519533</td><td> 0.01432061</td></tr>\n",
       "\t<tr><th scope=row>ko5</th><td>ko5</td><td> 8.925600</td><td> 2.81628975</td></tr>\n",
       "</tbody>\n",
       "</table>\n"
      ],
      "text/latex": [
       "A data.frame: 10 × 3\n",
       "\\begin{tabular}{r|lll}\n",
       "  & Sample & X & Y\\\\\n",
       "  & <chr> & <dbl> & <dbl>\\\\\n",
       "\\hline\n",
       "\twt1 & wt1 & -9.001425 &  0.59158724\\\\\n",
       "\twt2 & wt2 & -9.223056 &  1.10413318\\\\\n",
       "\twt3 & wt3 & -9.167645 &  1.00311749\\\\\n",
       "\twt4 & wt4 & -9.360262 & -0.81593111\\\\\n",
       "\twt5 & wt5 & -8.847315 & -1.93050515\\\\\n",
       "\tko1 & ko1 &  9.076899 & -0.80553779\\\\\n",
       "\tko2 & ko2 &  8.988993 &  0.01270401\\\\\n",
       "\tko3 & ko3 &  9.088680 & -1.99017823\\\\\n",
       "\tko4 & ko4 &  9.519533 &  0.01432061\\\\\n",
       "\tko5 & ko5 &  8.925600 &  2.81628975\\\\\n",
       "\\end{tabular}\n"
      ],
      "text/markdown": [
       "\n",
       "A data.frame: 10 × 3\n",
       "\n",
       "| <!--/--> | Sample &lt;chr&gt; | X &lt;dbl&gt; | Y &lt;dbl&gt; |\n",
       "|---|---|---|---|\n",
       "| wt1 | wt1 | -9.001425 |  0.59158724 |\n",
       "| wt2 | wt2 | -9.223056 |  1.10413318 |\n",
       "| wt3 | wt3 | -9.167645 |  1.00311749 |\n",
       "| wt4 | wt4 | -9.360262 | -0.81593111 |\n",
       "| wt5 | wt5 | -8.847315 | -1.93050515 |\n",
       "| ko1 | ko1 |  9.076899 | -0.80553779 |\n",
       "| ko2 | ko2 |  8.988993 |  0.01270401 |\n",
       "| ko3 | ko3 |  9.088680 | -1.99017823 |\n",
       "| ko4 | ko4 |  9.519533 |  0.01432061 |\n",
       "| ko5 | ko5 |  8.925600 |  2.81628975 |\n",
       "\n"
      ],
      "text/plain": [
       "    Sample X         Y          \n",
       "wt1 wt1    -9.001425  0.59158724\n",
       "wt2 wt2    -9.223056  1.10413318\n",
       "wt3 wt3    -9.167645  1.00311749\n",
       "wt4 wt4    -9.360262 -0.81593111\n",
       "wt5 wt5    -8.847315 -1.93050515\n",
       "ko1 ko1     9.076899 -0.80553779\n",
       "ko2 ko2     8.988993  0.01270401\n",
       "ko3 ko3     9.088680 -1.99017823\n",
       "ko4 ko4     9.519533  0.01432061\n",
       "ko5 ko5     8.925600  2.81628975"
      ]
     },
     "metadata": {},
     "output_type": "display_data"
    }
   ],
   "source": [
    "eigen.data <- data.frame(Sample=rownames(eigen.pcs),\n",
    "  X=(-1 * eigen.pcs[,1]), ## eigen() flips the X-axis in this case, so we flip it back\n",
    "  Y=eigen.pcs[,2]) ## X axis will be PC1, Y axis will be PC2\n",
    "eigen.data"
   ]
  },
  {
   "cell_type": "code",
   "execution_count": 22,
   "id": "16563ec3",
   "metadata": {},
   "outputs": [],
   "source": [
    "eigen.var.per <- round(eigen.stuff$values/sum(eigen.stuff$values)*100, 1)"
   ]
  },
  {
   "cell_type": "code",
   "execution_count": 23,
   "id": "bb0da67a",
   "metadata": {},
   "outputs": [
    {
     "data": {
      "image/png": "[encoded data removed]",
      "text/plain": [
       "plot without title"
      ]
     },
     "metadata": {
      "image/png": {
       "height": 420,
       "width": 420
      }
     },
     "output_type": "display_data"
    }
   ],
   "source": [
    "ggplot(data=eigen.data, aes(x=X, y=Y, label=Sample)) +\n",
    "  geom_text() +\n",
    "  xlab(paste(\"PC1 - \", eigen.var.per[1], \"%\", sep=\"\")) +\n",
    "  ylab(paste(\"PC2 - \", eigen.var.per[2], \"%\", sep=\"\")) +\n",
    "  theme_bw() +\n",
    "  ggtitle(\"eigen on cov(t(data.matrix))\")"
   ]
  }
 ],
 "metadata": {
  "kernelspec": {
   "display_name": "R",
   "language": "R",
   "name": "ir"
  },
  "language_info": {
   "codemirror_mode": "r",
   "file_extension": ".r",
   "mimetype": "text/x-r-source",
   "name": "R",
   "pygments_lexer": "r",
   "version": "4.2.0"
  }
 },
 "nbformat": 4,
 "nbformat_minor": 5
}
