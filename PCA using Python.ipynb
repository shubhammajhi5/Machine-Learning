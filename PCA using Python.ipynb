{
 "cells": [
  {
   "cell_type": "code",
   "execution_count": 1,
   "id": "42ea5261",
   "metadata": {},
   "outputs": [],
   "source": [
    "import pandas as pd\n",
    "import numpy as np\n",
    "import random as rd\n",
    "from sklearn.decomposition import PCA\n",
    "from sklearn import preprocessing\n",
    "import matplotlib.pyplot as plt"
   ]
  },
  {
   "cell_type": "code",
   "execution_count": 2,
   "id": "f519f1b1",
   "metadata": {},
   "outputs": [],
   "source": [
    "## Data Generation Code\n",
    "\n",
    "## In this example, the data is in a data frame called data.\n",
    "## Columns are individual samples (i.e. cells)\n",
    "## Rows are measurements taken for all the samples (i.e. genes)\n",
    "\n",
    "genes = ['gene' + str(i) for i in range(1,101)]\n",
    " \n",
    "wt = ['wt' + str(i) for i in range(1,6)]\n",
    "ko = ['ko' + str(i) for i in range(1,6)]\n",
    " \n",
    "data = pd.DataFrame(columns=[*wt, *ko], index=genes)\n",
    " \n",
    "for gene in data.index:\n",
    "    data.loc[gene,'wt1':'wt5'] = np.random.poisson(lam=rd.randrange(10,1000), size=5)\n",
    "    data.loc[gene,'ko1':'ko5'] = np.random.poisson(lam=rd.randrange(10,1000), size=5)"
   ]
  },
  {
   "cell_type": "code",
   "execution_count": 3,
   "id": "d0fed13c",
   "metadata": {
    "scrolled": true
   },
   "outputs": [
    {
     "data": {
      "text/html": [
       "<div>\n",
       "<style scoped>\n",
       "    .dataframe tbody tr th:only-of-type {\n",
       "        vertical-align: middle;\n",
       "    }\n",
       "\n",
       "    .dataframe tbody tr th {\n",
       "        vertical-align: top;\n",
       "    }\n",
       "\n",
       "    .dataframe thead th {\n",
       "        text-align: right;\n",
       "    }\n",
       "</style>\n",
       "<table border=\"1\" class=\"dataframe\">\n",
       "  <thead>\n",
       "    <tr style=\"text-align: right;\">\n",
       "      <th></th>\n",
       "      <th>wt1</th>\n",
       "      <th>wt2</th>\n",
       "      <th>wt3</th>\n",
       "      <th>wt4</th>\n",
       "      <th>wt5</th>\n",
       "      <th>ko1</th>\n",
       "      <th>ko2</th>\n",
       "      <th>ko3</th>\n",
       "      <th>ko4</th>\n",
       "      <th>ko5</th>\n",
       "    </tr>\n",
       "  </thead>\n",
       "  <tbody>\n",
       "    <tr>\n",
       "      <th>gene1</th>\n",
       "      <td>876</td>\n",
       "      <td>881</td>\n",
       "      <td>877</td>\n",
       "      <td>898</td>\n",
       "      <td>893</td>\n",
       "      <td>1016</td>\n",
       "      <td>1009</td>\n",
       "      <td>964</td>\n",
       "      <td>958</td>\n",
       "      <td>1019</td>\n",
       "    </tr>\n",
       "    <tr>\n",
       "      <th>gene2</th>\n",
       "      <td>84</td>\n",
       "      <td>111</td>\n",
       "      <td>97</td>\n",
       "      <td>84</td>\n",
       "      <td>83</td>\n",
       "      <td>920</td>\n",
       "      <td>920</td>\n",
       "      <td>946</td>\n",
       "      <td>922</td>\n",
       "      <td>958</td>\n",
       "    </tr>\n",
       "    <tr>\n",
       "      <th>gene3</th>\n",
       "      <td>752</td>\n",
       "      <td>731</td>\n",
       "      <td>691</td>\n",
       "      <td>741</td>\n",
       "      <td>730</td>\n",
       "      <td>472</td>\n",
       "      <td>476</td>\n",
       "      <td>483</td>\n",
       "      <td>461</td>\n",
       "      <td>453</td>\n",
       "    </tr>\n",
       "    <tr>\n",
       "      <th>gene4</th>\n",
       "      <td>957</td>\n",
       "      <td>936</td>\n",
       "      <td>964</td>\n",
       "      <td>975</td>\n",
       "      <td>887</td>\n",
       "      <td>647</td>\n",
       "      <td>642</td>\n",
       "      <td>617</td>\n",
       "      <td>594</td>\n",
       "      <td>621</td>\n",
       "    </tr>\n",
       "    <tr>\n",
       "      <th>gene5</th>\n",
       "      <td>532</td>\n",
       "      <td>594</td>\n",
       "      <td>550</td>\n",
       "      <td>528</td>\n",
       "      <td>537</td>\n",
       "      <td>945</td>\n",
       "      <td>936</td>\n",
       "      <td>920</td>\n",
       "      <td>910</td>\n",
       "      <td>916</td>\n",
       "    </tr>\n",
       "    <tr>\n",
       "      <th>...</th>\n",
       "      <td>...</td>\n",
       "      <td>...</td>\n",
       "      <td>...</td>\n",
       "      <td>...</td>\n",
       "      <td>...</td>\n",
       "      <td>...</td>\n",
       "      <td>...</td>\n",
       "      <td>...</td>\n",
       "      <td>...</td>\n",
       "      <td>...</td>\n",
       "    </tr>\n",
       "    <tr>\n",
       "      <th>gene96</th>\n",
       "      <td>136</td>\n",
       "      <td>138</td>\n",
       "      <td>128</td>\n",
       "      <td>122</td>\n",
       "      <td>127</td>\n",
       "      <td>595</td>\n",
       "      <td>588</td>\n",
       "      <td>567</td>\n",
       "      <td>560</td>\n",
       "      <td>618</td>\n",
       "    </tr>\n",
       "    <tr>\n",
       "      <th>gene97</th>\n",
       "      <td>574</td>\n",
       "      <td>594</td>\n",
       "      <td>604</td>\n",
       "      <td>561</td>\n",
       "      <td>585</td>\n",
       "      <td>148</td>\n",
       "      <td>147</td>\n",
       "      <td>155</td>\n",
       "      <td>146</td>\n",
       "      <td>148</td>\n",
       "    </tr>\n",
       "    <tr>\n",
       "      <th>gene98</th>\n",
       "      <td>595</td>\n",
       "      <td>621</td>\n",
       "      <td>595</td>\n",
       "      <td>562</td>\n",
       "      <td>591</td>\n",
       "      <td>174</td>\n",
       "      <td>192</td>\n",
       "      <td>150</td>\n",
       "      <td>178</td>\n",
       "      <td>172</td>\n",
       "    </tr>\n",
       "    <tr>\n",
       "      <th>gene99</th>\n",
       "      <td>470</td>\n",
       "      <td>420</td>\n",
       "      <td>445</td>\n",
       "      <td>383</td>\n",
       "      <td>416</td>\n",
       "      <td>279</td>\n",
       "      <td>268</td>\n",
       "      <td>282</td>\n",
       "      <td>317</td>\n",
       "      <td>293</td>\n",
       "    </tr>\n",
       "    <tr>\n",
       "      <th>gene100</th>\n",
       "      <td>641</td>\n",
       "      <td>695</td>\n",
       "      <td>646</td>\n",
       "      <td>661</td>\n",
       "      <td>687</td>\n",
       "      <td>497</td>\n",
       "      <td>496</td>\n",
       "      <td>509</td>\n",
       "      <td>521</td>\n",
       "      <td>538</td>\n",
       "    </tr>\n",
       "  </tbody>\n",
       "</table>\n",
       "<p>100 rows × 10 columns</p>\n",
       "</div>"
      ],
      "text/plain": [
       "         wt1  wt2  wt3  wt4  wt5   ko1   ko2  ko3  ko4   ko5\n",
       "gene1    876  881  877  898  893  1016  1009  964  958  1019\n",
       "gene2     84  111   97   84   83   920   920  946  922   958\n",
       "gene3    752  731  691  741  730   472   476  483  461   453\n",
       "gene4    957  936  964  975  887   647   642  617  594   621\n",
       "gene5    532  594  550  528  537   945   936  920  910   916\n",
       "...      ...  ...  ...  ...  ...   ...   ...  ...  ...   ...\n",
       "gene96   136  138  128  122  127   595   588  567  560   618\n",
       "gene97   574  594  604  561  585   148   147  155  146   148\n",
       "gene98   595  621  595  562  591   174   192  150  178   172\n",
       "gene99   470  420  445  383  416   279   268  282  317   293\n",
       "gene100  641  695  646  661  687   497   496  509  521   538\n",
       "\n",
       "[100 rows x 10 columns]"
      ]
     },
     "execution_count": 3,
     "metadata": {},
     "output_type": "execute_result"
    }
   ],
   "source": [
    "data"
   ]
  },
  {
   "cell_type": "code",
   "execution_count": 4,
   "id": "878b214c",
   "metadata": {},
   "outputs": [
    {
     "name": "stdout",
     "output_type": "stream",
     "text": [
      "<class 'pandas.core.frame.DataFrame'>\n",
      "Index: 100 entries, gene1 to gene100\n",
      "Data columns (total 10 columns):\n",
      " #   Column  Non-Null Count  Dtype \n",
      "---  ------  --------------  ----- \n",
      " 0   wt1     100 non-null    object\n",
      " 1   wt2     100 non-null    object\n",
      " 2   wt3     100 non-null    object\n",
      " 3   wt4     100 non-null    object\n",
      " 4   wt5     100 non-null    object\n",
      " 5   ko1     100 non-null    object\n",
      " 6   ko2     100 non-null    object\n",
      " 7   ko3     100 non-null    object\n",
      " 8   ko4     100 non-null    object\n",
      " 9   ko5     100 non-null    object\n",
      "dtypes: object(10)\n",
      "memory usage: 12.7+ KB\n"
     ]
    }
   ],
   "source": [
    "data.info()"
   ]
  },
  {
   "cell_type": "code",
   "execution_count": 5,
   "id": "9028afc2",
   "metadata": {},
   "outputs": [],
   "source": [
    "## Perform PCA on the data\n",
    "\n",
    "## First center and scale the data\n",
    "\n",
    "scaled_data = preprocessing.scale(data.T)"
   ]
  },
  {
   "cell_type": "code",
   "execution_count": 6,
   "id": "d3ae8680",
   "metadata": {},
   "outputs": [],
   "source": [
    "pca = PCA() # create a PCA object\n",
    "pca.fit(scaled_data) # do the math\n",
    "pca_data = pca.transform(scaled_data) # get PCA coordinates for scaled_data"
   ]
  },
  {
   "cell_type": "code",
   "execution_count": 7,
   "id": "f1d2203e",
   "metadata": {},
   "outputs": [
    {
     "data": {
      "image/png": "[encoded data removed]",
      "text/plain": [
       "<Figure size 432x288 with 1 Axes>"
      ]
     },
     "metadata": {
      "needs_background": "light"
     },
     "output_type": "display_data"
    }
   ],
   "source": [
    "## Draw a scree plot and a PCA plot\n",
    "\n",
    " \n",
    "## The following code constructs the Scree plot\n",
    "\n",
    "per_var = np.round(pca.explained_variance_ratio_* 100, decimals=1)\n",
    "labels = ['PC' + str(x) for x in range(1, len(per_var)+1)]\n",
    " \n",
    "plt.bar(x=range(1,len(per_var)+1), height=per_var, tick_label=labels)\n",
    "plt.ylabel('Percentage of Explained Variance')\n",
    "plt.xlabel('Principal Component')\n",
    "plt.title('Scree Plot')\n",
    "plt.show()"
   ]
  },
  {
   "cell_type": "code",
   "execution_count": 8,
   "id": "6bd1540b",
   "metadata": {},
   "outputs": [
    {
     "data": {
      "image/png": "[encoded data removed]",
      "text/plain": [
       "<Figure size 432x288 with 1 Axes>"
      ]
     },
     "metadata": {
      "needs_background": "light"
     },
     "output_type": "display_data"
    }
   ],
   "source": [
    "## the following code makes a fancy looking plot using PC1 and PC2\n",
    "\n",
    "pca_df = pd.DataFrame(pca_data, index=[*wt, *ko], columns=labels)\n",
    " \n",
    "plt.scatter(pca_df.PC1, pca_df.PC2)\n",
    "plt.title('My PCA Graph')\n",
    "plt.xlabel('PC1 - {0}%'.format(per_var[0]))\n",
    "plt.ylabel('PC2 - {0}%'.format(per_var[1]))\n",
    " \n",
    "for sample in pca_df.index:\n",
    "    plt.annotate(sample, (pca_df.PC1.loc[sample], pca_df.PC2.loc[sample]))\n",
    " \n",
    "plt.show()"
   ]
  },
  {
   "cell_type": "code",
   "execution_count": 9,
   "id": "41a4c9b3",
   "metadata": {},
   "outputs": [],
   "source": [
    "## Determine which genes had the biggest influence on PC1\n",
    "\n",
    "## get the name of the top 10 measurements (genes) that contribute most to pc1.\n",
    "\n",
    "## first, get the loading scores\n",
    "\n",
    "loading_scores = pd.Series(pca.components_[0], index=genes)\n",
    "\n",
    "\n",
    "## now sort the loading scores based on their magnitude\n",
    "\n",
    "sorted_loading_scores = loading_scores.abs().sort_values(ascending=False)\n",
    "\n",
    "\n",
    "# get the names of the top 10 genes\n",
    "\n",
    "top_10_genes = sorted_loading_scores[0:10].index.values"
   ]
  },
  {
   "cell_type": "code",
   "execution_count": 11,
   "id": "a85f27dc",
   "metadata": {},
   "outputs": [
    {
     "data": {
      "text/plain": [
       "gene86    0.105444\n",
       "gene33    0.105391\n",
       "gene27   -0.105366\n",
       "gene15   -0.105358\n",
       "gene64    0.105356\n",
       "gene7     0.105355\n",
       "gene50    0.105348\n",
       "gene9     0.105344\n",
       "gene35   -0.105340\n",
       "gene74   -0.105338\n",
       "dtype: float64"
      ]
     },
     "execution_count": 11,
     "metadata": {},
     "output_type": "execute_result"
    }
   ],
   "source": [
    "## print the gene names and their scores (and +/- sign)\n",
    "\n",
    "loading_scores[top_10_genes]"
   ]
  }
 ],
 "metadata": {
  "kernelspec": {
   "display_name": "Python 3 (ipykernel)",
   "language": "python",
   "name": "python3"
  },
  "language_info": {
   "codemirror_mode": {
    "name": "ipython",
    "version": 3
   },
   "file_extension": ".py",
   "mimetype": "text/x-python",
   "name": "python",
   "nbconvert_exporter": "python",
   "pygments_lexer": "ipython3",
   "version": "3.10.2"
  }
 },
 "nbformat": 4,
 "nbformat_minor": 5
}
